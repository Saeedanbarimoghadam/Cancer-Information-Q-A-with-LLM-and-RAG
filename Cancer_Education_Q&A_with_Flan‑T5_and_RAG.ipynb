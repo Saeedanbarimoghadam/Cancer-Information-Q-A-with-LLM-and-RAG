{
  "metadata": {
    "kernelspec": {
      "language": "python",
      "display_name": "Python 3",
      "name": "python3"
    },
    "language_info": {
      "name": "python",
      "version": "3.11.11",
      "mimetype": "text/x-python",
      "codemirror_mode": {
        "name": "ipython",
        "version": 3
      },
      "pygments_lexer": "ipython3",
      "nbconvert_exporter": "python",
      "file_extension": ".py"
    },
    "kaggle": {
      "accelerator": "gpu",
      "dataSources": [
        {
          "sourceId": 7639866,
          "sourceType": "datasetVersion",
          "datasetId": 841565
        }
      ],
      "dockerImageVersionId": 31041,
      "isInternetEnabled": true,
      "language": "python",
      "sourceType": "notebook",
      "isGpuEnabled": true
    },
    "colab": {
      "provenance": []
    }
  },
  "nbformat_minor": 0,
  "nbformat": 4,
  "cells": [
    {
      "cell_type": "markdown",
      "source": [
        "# Imports\n",
        "\n",
        "Benefits of This Step:\n",
        "\n",
        "Grouped imports by function (viz, system, NLP)\n",
        "\n",
        "Descriptive comments improve readability\n",
        "\n",
        "Adds a clear structure before actual data handling or RAG logic starts"
      ],
      "metadata": {
        "execution": {
          "iopub.status.busy": "2025-06-20T14:06:34.304356Z",
          "iopub.execute_input": "2025-06-20T14:06:34.304671Z",
          "iopub.status.idle": "2025-06-20T14:06:34.310031Z",
          "shell.execute_reply.started": "2025-06-20T14:06:34.304649Z",
          "shell.execute_reply": "2025-06-20T14:06:34.308955Z"
        },
        "id": "a7TtLNmr4Qt9"
      }
    },
    {
      "cell_type": "code",
      "source": [
        "\n",
        "import sys\n",
        "import time\n",
        "import warnings\n",
        "import numpy as np\n",
        "import pandas as pd\n",
        "import matplotlib\n",
        "import matplotlib.pyplot as plt\n",
        "import seaborn as sns\n",
        "sns.set_theme(style=\"white\")\n",
        "warnings.filterwarnings('ignore')\n",
        "\n",
        "%pip install --quiet --upgrade langchain-text-splitters langchain-community langgraph langchain-openai\n",
        "\n",
        "from langchain.chat_models import init_chat_model\n",
        "from langchain_openai import OpenAIEmbeddings\n",
        "from langchain_community.document_loaders import CSVLoader, TextLoader\n",
        "from langchain_core.vectorstores import InMemoryVectorStore"
      ],
      "metadata": {
        "trusted": true,
        "execution": {
          "iopub.status.busy": "2025-06-20T14:56:48.478989Z",
          "iopub.execute_input": "2025-06-20T14:56:48.479250Z",
          "iopub.status.idle": "2025-06-20T14:56:52.129374Z",
          "shell.execute_reply.started": "2025-06-20T14:56:48.479231Z",
          "shell.execute_reply": "2025-06-20T14:56:52.128405Z"
        },
        "id": "oSo0lOJh4Qt-"
      },
      "outputs": [],
      "execution_count": null
    },
    {
      "cell_type": "code",
      "source": [
        "pip install langchain sentence-transformers"
      ],
      "metadata": {
        "id": "d6BoCGBLt2Cb"
      },
      "execution_count": null,
      "outputs": []
    },
    {
      "cell_type": "markdown",
      "source": [
        "# Data Loading"
      ],
      "metadata": {
        "id": "QZxznm7a4QuC"
      }
    },
    {
      "cell_type": "code",
      "source": [
        "from google.colab import drive\n",
        "drive.mount('/content/drive')"
      ],
      "metadata": {
        "colab": {
          "base_uri": "https://localhost:8080/"
        },
        "id": "2XMixnMCiXRi",
        "outputId": "219ca096-5e0d-4bde-bcad-8bef43be019b"
      },
      "execution_count": 2,
      "outputs": [
        {
          "output_type": "stream",
          "name": "stdout",
          "text": [
            "Mounted at /content/drive\n"
          ]
        }
      ]
    },
    {
      "cell_type": "code",
      "source": [
        "csv_file_path = '/content/drive/My Drive/medquad.csv'\n",
        "\n",
        "df = pd.read_csv(csv_file_path)\n",
        "df.head(100)"
      ],
      "metadata": {
        "colab": {
          "base_uri": "https://localhost:8080/",
          "height": 424
        },
        "id": "9J_mUsuWihGY",
        "outputId": "9284fb69-f96b-4ea0-c210-d6eb186741b1"
      },
      "execution_count": 3,
      "outputs": [
        {
          "output_type": "execute_result",
          "data": {
            "text/plain": [
              "                                   question  \\\n",
              "0                  What is (are) Glaucoma ?   \n",
              "1                    What causes Glaucoma ?   \n",
              "2       What are the symptoms of Glaucoma ?   \n",
              "3    What are the treatments for Glaucoma ?   \n",
              "4                  What is (are) Glaucoma ?   \n",
              "..                                      ...   \n",
              "95        What is (are) Anxiety Disorders ?   \n",
              "96        What is (are) Anxiety Disorders ?   \n",
              "97        What is (are) Anxiety Disorders ?   \n",
              "98        What is (are) Anxiety Disorders ?   \n",
              "99  Who is at risk for Anxiety Disorders? ?   \n",
              "\n",
              "                                               answer           source  \\\n",
              "0   Glaucoma is a group of diseases that can damag...  NIHSeniorHealth   \n",
              "1   Nearly 2.7 million people have glaucoma, a lea...  NIHSeniorHealth   \n",
              "2   Symptoms of Glaucoma  Glaucoma can develop in ...  NIHSeniorHealth   \n",
              "3   Although open-angle glaucoma cannot be cured, ...  NIHSeniorHealth   \n",
              "4   Glaucoma is a group of diseases that can damag...  NIHSeniorHealth   \n",
              "..                                                ...              ...   \n",
              "95  Anxiety disorders are a collection of disorder...  NIHSeniorHealth   \n",
              "96  All of us worry about things like health, mone...  NIHSeniorHealth   \n",
              "97  In social phobia, a person fears being judged ...  NIHSeniorHealth   \n",
              "98  In panic disorder, a person has sudden, unexpl...  NIHSeniorHealth   \n",
              "99  Generalized anxiety disorder (GAD) affects abo...  NIHSeniorHealth   \n",
              "\n",
              "           focus_area  \n",
              "0            Glaucoma  \n",
              "1            Glaucoma  \n",
              "2            Glaucoma  \n",
              "3            Glaucoma  \n",
              "4            Glaucoma  \n",
              "..                ...  \n",
              "95  Anxiety Disorders  \n",
              "96  Anxiety Disorders  \n",
              "97  Anxiety Disorders  \n",
              "98  Anxiety Disorders  \n",
              "99  Anxiety Disorders  \n",
              "\n",
              "[100 rows x 4 columns]"
            ],
            "text/html": [
              "\n",
              "  <div id=\"df-7cd196da-a479-4d3b-82a4-bd4302fddb26\" class=\"colab-df-container\">\n",
              "    <div>\n",
              "<style scoped>\n",
              "    .dataframe tbody tr th:only-of-type {\n",
              "        vertical-align: middle;\n",
              "    }\n",
              "\n",
              "    .dataframe tbody tr th {\n",
              "        vertical-align: top;\n",
              "    }\n",
              "\n",
              "    .dataframe thead th {\n",
              "        text-align: right;\n",
              "    }\n",
              "</style>\n",
              "<table border=\"1\" class=\"dataframe\">\n",
              "  <thead>\n",
              "    <tr style=\"text-align: right;\">\n",
              "      <th></th>\n",
              "      <th>question</th>\n",
              "      <th>answer</th>\n",
              "      <th>source</th>\n",
              "      <th>focus_area</th>\n",
              "    </tr>\n",
              "  </thead>\n",
              "  <tbody>\n",
              "    <tr>\n",
              "      <th>0</th>\n",
              "      <td>What is (are) Glaucoma ?</td>\n",
              "      <td>Glaucoma is a group of diseases that can damag...</td>\n",
              "      <td>NIHSeniorHealth</td>\n",
              "      <td>Glaucoma</td>\n",
              "    </tr>\n",
              "    <tr>\n",
              "      <th>1</th>\n",
              "      <td>What causes Glaucoma ?</td>\n",
              "      <td>Nearly 2.7 million people have glaucoma, a lea...</td>\n",
              "      <td>NIHSeniorHealth</td>\n",
              "      <td>Glaucoma</td>\n",
              "    </tr>\n",
              "    <tr>\n",
              "      <th>2</th>\n",
              "      <td>What are the symptoms of Glaucoma ?</td>\n",
              "      <td>Symptoms of Glaucoma  Glaucoma can develop in ...</td>\n",
              "      <td>NIHSeniorHealth</td>\n",
              "      <td>Glaucoma</td>\n",
              "    </tr>\n",
              "    <tr>\n",
              "      <th>3</th>\n",
              "      <td>What are the treatments for Glaucoma ?</td>\n",
              "      <td>Although open-angle glaucoma cannot be cured, ...</td>\n",
              "      <td>NIHSeniorHealth</td>\n",
              "      <td>Glaucoma</td>\n",
              "    </tr>\n",
              "    <tr>\n",
              "      <th>4</th>\n",
              "      <td>What is (are) Glaucoma ?</td>\n",
              "      <td>Glaucoma is a group of diseases that can damag...</td>\n",
              "      <td>NIHSeniorHealth</td>\n",
              "      <td>Glaucoma</td>\n",
              "    </tr>\n",
              "    <tr>\n",
              "      <th>...</th>\n",
              "      <td>...</td>\n",
              "      <td>...</td>\n",
              "      <td>...</td>\n",
              "      <td>...</td>\n",
              "    </tr>\n",
              "    <tr>\n",
              "      <th>95</th>\n",
              "      <td>What is (are) Anxiety Disorders ?</td>\n",
              "      <td>Anxiety disorders are a collection of disorder...</td>\n",
              "      <td>NIHSeniorHealth</td>\n",
              "      <td>Anxiety Disorders</td>\n",
              "    </tr>\n",
              "    <tr>\n",
              "      <th>96</th>\n",
              "      <td>What is (are) Anxiety Disorders ?</td>\n",
              "      <td>All of us worry about things like health, mone...</td>\n",
              "      <td>NIHSeniorHealth</td>\n",
              "      <td>Anxiety Disorders</td>\n",
              "    </tr>\n",
              "    <tr>\n",
              "      <th>97</th>\n",
              "      <td>What is (are) Anxiety Disorders ?</td>\n",
              "      <td>In social phobia, a person fears being judged ...</td>\n",
              "      <td>NIHSeniorHealth</td>\n",
              "      <td>Anxiety Disorders</td>\n",
              "    </tr>\n",
              "    <tr>\n",
              "      <th>98</th>\n",
              "      <td>What is (are) Anxiety Disorders ?</td>\n",
              "      <td>In panic disorder, a person has sudden, unexpl...</td>\n",
              "      <td>NIHSeniorHealth</td>\n",
              "      <td>Anxiety Disorders</td>\n",
              "    </tr>\n",
              "    <tr>\n",
              "      <th>99</th>\n",
              "      <td>Who is at risk for Anxiety Disorders? ?</td>\n",
              "      <td>Generalized anxiety disorder (GAD) affects abo...</td>\n",
              "      <td>NIHSeniorHealth</td>\n",
              "      <td>Anxiety Disorders</td>\n",
              "    </tr>\n",
              "  </tbody>\n",
              "</table>\n",
              "<p>100 rows × 4 columns</p>\n",
              "</div>\n",
              "    <div class=\"colab-df-buttons\">\n",
              "\n",
              "  <div class=\"colab-df-container\">\n",
              "    <button class=\"colab-df-convert\" onclick=\"convertToInteractive('df-7cd196da-a479-4d3b-82a4-bd4302fddb26')\"\n",
              "            title=\"Convert this dataframe to an interactive table.\"\n",
              "            style=\"display:none;\">\n",
              "\n",
              "  <svg xmlns=\"http://www.w3.org/2000/svg\" height=\"24px\" viewBox=\"0 -960 960 960\">\n",
              "    <path d=\"M120-120v-720h720v720H120Zm60-500h600v-160H180v160Zm220 220h160v-160H400v160Zm0 220h160v-160H400v160ZM180-400h160v-160H180v160Zm440 0h160v-160H620v160ZM180-180h160v-160H180v160Zm440 0h160v-160H620v160Z\"/>\n",
              "  </svg>\n",
              "    </button>\n",
              "\n",
              "  <style>\n",
              "    .colab-df-container {\n",
              "      display:flex;\n",
              "      gap: 12px;\n",
              "    }\n",
              "\n",
              "    .colab-df-convert {\n",
              "      background-color: #E8F0FE;\n",
              "      border: none;\n",
              "      border-radius: 50%;\n",
              "      cursor: pointer;\n",
              "      display: none;\n",
              "      fill: #1967D2;\n",
              "      height: 32px;\n",
              "      padding: 0 0 0 0;\n",
              "      width: 32px;\n",
              "    }\n",
              "\n",
              "    .colab-df-convert:hover {\n",
              "      background-color: #E2EBFA;\n",
              "      box-shadow: 0px 1px 2px rgba(60, 64, 67, 0.3), 0px 1px 3px 1px rgba(60, 64, 67, 0.15);\n",
              "      fill: #174EA6;\n",
              "    }\n",
              "\n",
              "    .colab-df-buttons div {\n",
              "      margin-bottom: 4px;\n",
              "    }\n",
              "\n",
              "    [theme=dark] .colab-df-convert {\n",
              "      background-color: #3B4455;\n",
              "      fill: #D2E3FC;\n",
              "    }\n",
              "\n",
              "    [theme=dark] .colab-df-convert:hover {\n",
              "      background-color: #434B5C;\n",
              "      box-shadow: 0px 1px 3px 1px rgba(0, 0, 0, 0.15);\n",
              "      filter: drop-shadow(0px 1px 2px rgba(0, 0, 0, 0.3));\n",
              "      fill: #FFFFFF;\n",
              "    }\n",
              "  </style>\n",
              "\n",
              "    <script>\n",
              "      const buttonEl =\n",
              "        document.querySelector('#df-7cd196da-a479-4d3b-82a4-bd4302fddb26 button.colab-df-convert');\n",
              "      buttonEl.style.display =\n",
              "        google.colab.kernel.accessAllowed ? 'block' : 'none';\n",
              "\n",
              "      async function convertToInteractive(key) {\n",
              "        const element = document.querySelector('#df-7cd196da-a479-4d3b-82a4-bd4302fddb26');\n",
              "        const dataTable =\n",
              "          await google.colab.kernel.invokeFunction('convertToInteractive',\n",
              "                                                    [key], {});\n",
              "        if (!dataTable) return;\n",
              "\n",
              "        const docLinkHtml = 'Like what you see? Visit the ' +\n",
              "          '<a target=\"_blank\" href=https://colab.research.google.com/notebooks/data_table.ipynb>data table notebook</a>'\n",
              "          + ' to learn more about interactive tables.';\n",
              "        element.innerHTML = '';\n",
              "        dataTable['output_type'] = 'display_data';\n",
              "        await google.colab.output.renderOutput(dataTable, element);\n",
              "        const docLink = document.createElement('div');\n",
              "        docLink.innerHTML = docLinkHtml;\n",
              "        element.appendChild(docLink);\n",
              "      }\n",
              "    </script>\n",
              "  </div>\n",
              "\n",
              "\n",
              "    <div id=\"df-3b6a62de-4b6c-43ce-95d4-833f1c0aec67\">\n",
              "      <button class=\"colab-df-quickchart\" onclick=\"quickchart('df-3b6a62de-4b6c-43ce-95d4-833f1c0aec67')\"\n",
              "                title=\"Suggest charts\"\n",
              "                style=\"display:none;\">\n",
              "\n",
              "<svg xmlns=\"http://www.w3.org/2000/svg\" height=\"24px\"viewBox=\"0 0 24 24\"\n",
              "     width=\"24px\">\n",
              "    <g>\n",
              "        <path d=\"M19 3H5c-1.1 0-2 .9-2 2v14c0 1.1.9 2 2 2h14c1.1 0 2-.9 2-2V5c0-1.1-.9-2-2-2zM9 17H7v-7h2v7zm4 0h-2V7h2v10zm4 0h-2v-4h2v4z\"/>\n",
              "    </g>\n",
              "</svg>\n",
              "      </button>\n",
              "\n",
              "<style>\n",
              "  .colab-df-quickchart {\n",
              "      --bg-color: #E8F0FE;\n",
              "      --fill-color: #1967D2;\n",
              "      --hover-bg-color: #E2EBFA;\n",
              "      --hover-fill-color: #174EA6;\n",
              "      --disabled-fill-color: #AAA;\n",
              "      --disabled-bg-color: #DDD;\n",
              "  }\n",
              "\n",
              "  [theme=dark] .colab-df-quickchart {\n",
              "      --bg-color: #3B4455;\n",
              "      --fill-color: #D2E3FC;\n",
              "      --hover-bg-color: #434B5C;\n",
              "      --hover-fill-color: #FFFFFF;\n",
              "      --disabled-bg-color: #3B4455;\n",
              "      --disabled-fill-color: #666;\n",
              "  }\n",
              "\n",
              "  .colab-df-quickchart {\n",
              "    background-color: var(--bg-color);\n",
              "    border: none;\n",
              "    border-radius: 50%;\n",
              "    cursor: pointer;\n",
              "    display: none;\n",
              "    fill: var(--fill-color);\n",
              "    height: 32px;\n",
              "    padding: 0;\n",
              "    width: 32px;\n",
              "  }\n",
              "\n",
              "  .colab-df-quickchart:hover {\n",
              "    background-color: var(--hover-bg-color);\n",
              "    box-shadow: 0 1px 2px rgba(60, 64, 67, 0.3), 0 1px 3px 1px rgba(60, 64, 67, 0.15);\n",
              "    fill: var(--button-hover-fill-color);\n",
              "  }\n",
              "\n",
              "  .colab-df-quickchart-complete:disabled,\n",
              "  .colab-df-quickchart-complete:disabled:hover {\n",
              "    background-color: var(--disabled-bg-color);\n",
              "    fill: var(--disabled-fill-color);\n",
              "    box-shadow: none;\n",
              "  }\n",
              "\n",
              "  .colab-df-spinner {\n",
              "    border: 2px solid var(--fill-color);\n",
              "    border-color: transparent;\n",
              "    border-bottom-color: var(--fill-color);\n",
              "    animation:\n",
              "      spin 1s steps(1) infinite;\n",
              "  }\n",
              "\n",
              "  @keyframes spin {\n",
              "    0% {\n",
              "      border-color: transparent;\n",
              "      border-bottom-color: var(--fill-color);\n",
              "      border-left-color: var(--fill-color);\n",
              "    }\n",
              "    20% {\n",
              "      border-color: transparent;\n",
              "      border-left-color: var(--fill-color);\n",
              "      border-top-color: var(--fill-color);\n",
              "    }\n",
              "    30% {\n",
              "      border-color: transparent;\n",
              "      border-left-color: var(--fill-color);\n",
              "      border-top-color: var(--fill-color);\n",
              "      border-right-color: var(--fill-color);\n",
              "    }\n",
              "    40% {\n",
              "      border-color: transparent;\n",
              "      border-right-color: var(--fill-color);\n",
              "      border-top-color: var(--fill-color);\n",
              "    }\n",
              "    60% {\n",
              "      border-color: transparent;\n",
              "      border-right-color: var(--fill-color);\n",
              "    }\n",
              "    80% {\n",
              "      border-color: transparent;\n",
              "      border-right-color: var(--fill-color);\n",
              "      border-bottom-color: var(--fill-color);\n",
              "    }\n",
              "    90% {\n",
              "      border-color: transparent;\n",
              "      border-bottom-color: var(--fill-color);\n",
              "    }\n",
              "  }\n",
              "</style>\n",
              "\n",
              "      <script>\n",
              "        async function quickchart(key) {\n",
              "          const quickchartButtonEl =\n",
              "            document.querySelector('#' + key + ' button');\n",
              "          quickchartButtonEl.disabled = true;  // To prevent multiple clicks.\n",
              "          quickchartButtonEl.classList.add('colab-df-spinner');\n",
              "          try {\n",
              "            const charts = await google.colab.kernel.invokeFunction(\n",
              "                'suggestCharts', [key], {});\n",
              "          } catch (error) {\n",
              "            console.error('Error during call to suggestCharts:', error);\n",
              "          }\n",
              "          quickchartButtonEl.classList.remove('colab-df-spinner');\n",
              "          quickchartButtonEl.classList.add('colab-df-quickchart-complete');\n",
              "        }\n",
              "        (() => {\n",
              "          let quickchartButtonEl =\n",
              "            document.querySelector('#df-3b6a62de-4b6c-43ce-95d4-833f1c0aec67 button');\n",
              "          quickchartButtonEl.style.display =\n",
              "            google.colab.kernel.accessAllowed ? 'block' : 'none';\n",
              "        })();\n",
              "      </script>\n",
              "    </div>\n",
              "\n",
              "    </div>\n",
              "  </div>\n"
            ],
            "application/vnd.google.colaboratory.intrinsic+json": {
              "type": "dataframe",
              "variable_name": "df",
              "summary": "{\n  \"name\": \"df\",\n  \"rows\": 16412,\n  \"fields\": [\n    {\n      \"column\": \"question\",\n      \"properties\": {\n        \"dtype\": \"string\",\n        \"num_unique_values\": 14984,\n        \"samples\": [\n          \"How many people are affected by 8p11 myeloproliferative syndrome ?\",\n          \"What is (are) caudal regression syndrome ?\",\n          \"What is the outlook for Cephalic Disorders ?\"\n        ],\n        \"semantic_type\": \"\",\n        \"description\": \"\"\n      }\n    },\n    {\n      \"column\": \"answer\",\n      \"properties\": {\n        \"dtype\": \"string\",\n        \"num_unique_values\": 15817,\n        \"samples\": [\n          \"The prognosis depends upon the severity of symptoms. Children with early-onset AGS have the highest risk of death. Children with the later-onset form may be left with weakness or stiffness in the peripheral muscles and arms, weak muscles in the trunk of the body, and poor head control. Almost all children with AGS have mild to severe intellectual and physical impairment.\",\n          \"Scientists don't know exactly what causes prostate cancer. They cannot explain why one man gets prostate cancer and another does not. However, they have been able to identify some risk factors that are associated with the disease. A risk factor is anything that increases your chances of getting a disease. Age Age is the most important risk factor for prostate cancer. The disease is extremely rare in men under age 40, but the risk increases greatly with age. More than 60 percent of cases are diagnosed in men over age 65. The average age at the time of diagnosis is 65. Race Race is another major risk factor. In the United States, this disease is much more common in African American men than in any other group of men. It is least common in Asian and American Indian men. Family History A man's risk for developing prostate cancer is higher if his father or brother has had the disease. Other Risk Factors Scientists have wondered whether obesity, lack of exercise, smoking, radiation exposure, might increase risk. But at this time, there is no firm evidence that these factors contribute to an increased risk.\",\n          \"The retina is a layer of tissue in the back of your eye that senses light and sends images to your brain. It provides the sharp, central vision needed for reading, driving, and seeing fine detail. A retinal detachment lifts or pulls the retina from its normal position. It can occur at any age, but it is more common in people over age 40. It affects men more than women and whites more than African Americans. A retinal detachment is also more likely to occur in people who       - Are extremely nearsighted    - Have had a retinal detachment in the other eye    - Have a family history of retinal detachment    - Have had cataract surgery    - Have other eye diseases or disorders    - Have had an eye injury       Symptoms include an increase in the number of floaters, which are little \\\"cobwebs\\\" or specks that float about in your field of vision, and/or light flashes in the eye. It may also seem like there is a \\\"curtain\\\" over your field of vision.    A retinal detachment is a medical emergency. If not promptly treated, it can cause permanent vision loss. If you have any symptoms, see an eye care professional immediately. Treatment includes different types of surgery.    NIH: National Eye Institute\"\n        ],\n        \"semantic_type\": \"\",\n        \"description\": \"\"\n      }\n    },\n    {\n      \"column\": \"source\",\n      \"properties\": {\n        \"dtype\": \"category\",\n        \"num_unique_values\": 9,\n        \"samples\": [\n          \"GHR\",\n          \"CancerGov\",\n          \"NHLBI\"\n        ],\n        \"semantic_type\": \"\",\n        \"description\": \"\"\n      }\n    },\n    {\n      \"column\": \"focus_area\",\n      \"properties\": {\n        \"dtype\": \"category\",\n        \"num_unique_values\": 5126,\n        \"samples\": [\n          \"Adams-Oliver syndrome\",\n          \"Occupational Health\",\n          \"What I need to know about Diverticular Disease\"\n        ],\n        \"semantic_type\": \"\",\n        \"description\": \"\"\n      }\n    }\n  ]\n}"
            }
          },
          "metadata": {},
          "execution_count": 3
        }
      ]
    },
    {
      "cell_type": "markdown",
      "source": [
        "# Validation: Missing Value Analysis"
      ],
      "metadata": {
        "id": "mt_6_BDw4QuD"
      }
    },
    {
      "cell_type": "code",
      "source": [
        "\n",
        "missing_counts = df.isnull().sum()\n",
        "print(\"🧼 Missing values summary:\")\n",
        "print(missing_counts[missing_counts > 0])\n",
        "\n",
        "\n",
        "initial_count = len(df)\n",
        "df.dropna(subset=[\"answer\", \"focus_area\"], inplace=True)\n",
        "final_count = len(df)\n",
        "\n",
        "\n",
        "print(f\" Cleaned dataset now has {final_count} rows.\")"
      ],
      "metadata": {
        "trusted": true,
        "execution": {
          "iopub.status.busy": "2025-06-20T14:56:52.380777Z",
          "iopub.execute_input": "2025-06-20T14:56:52.380993Z",
          "iopub.status.idle": "2025-06-20T14:56:52.395896Z",
          "shell.execute_reply.started": "2025-06-20T14:56:52.380974Z",
          "shell.execute_reply": "2025-06-20T14:56:52.395112Z"
        },
        "colab": {
          "base_uri": "https://localhost:8080/"
        },
        "id": "pZWQIdQc4QuE",
        "outputId": "62207fbd-ad28-4318-a6d6-8d7befa583ba"
      },
      "outputs": [
        {
          "output_type": "stream",
          "name": "stdout",
          "text": [
            "🧼 Missing values summary:\n",
            "Series([], dtype: int64)\n",
            " Cleaned dataset now has 16393 rows.\n"
          ]
        }
      ],
      "execution_count": 52
    },
    {
      "cell_type": "markdown",
      "source": [
        "# Preview Focus Area Distributions\n",
        "\n"
      ],
      "metadata": {
        "id": "QMm3mMHU4QuE"
      }
    },
    {
      "cell_type": "markdown",
      "source": [
        "# Analyze Distributions\n",
        "\n"
      ],
      "metadata": {
        "id": "_ZHwO7x84QuF"
      }
    },
    {
      "cell_type": "code",
      "source": [
        "\n",
        "unique_focus_areas = df['focus_area'].nunique()\n",
        "print(f\" Unique focus areas: {unique_focus_areas}\")\n",
        "\n",
        "\n",
        "top_focus_areas = df['focus_area'].value_counts().head(20)\n",
        "\n",
        "\n",
        "plt.figure(figsize=(12, 6))\n",
        "sns.barplot(x=top_focus_areas.values, y=top_focus_areas.index, palette='viridis')\n",
        "plt.title(\"Top 20 Focus Areas by Frequency\", fontsize=14)\n",
        "plt.xlabel(\"Count\")\n",
        "plt.ylabel(\"Focus Area\")\n",
        "plt.tight_layout()\n",
        "plt.show()"
      ],
      "metadata": {
        "trusted": true,
        "execution": {
          "iopub.status.busy": "2025-06-20T14:56:52.397487Z",
          "iopub.execute_input": "2025-06-20T14:56:52.397704Z",
          "iopub.status.idle": "2025-06-20T14:56:52.833532Z",
          "shell.execute_reply.started": "2025-06-20T14:56:52.397688Z",
          "shell.execute_reply": "2025-06-20T14:56:52.832712Z"
        },
        "colab": {
          "base_uri": "https://localhost:8080/",
          "height": 617
        },
        "id": "QlDLsHOF4QuG",
        "outputId": "7dbb3d65-80ff-4330-b05c-1079733da7f3"
      },
      "outputs": [
        {
          "output_type": "stream",
          "name": "stdout",
          "text": [
            " Unique focus areas: 5125\n"
          ]
        },
        {
          "output_type": "display_data",
          "data": {
            "text/plain": [
              "<Figure size 1200x600 with 1 Axes>"
            ],
            "image/png": "[encoded data removed]"
          },
          "metadata": {}
        }
      ],
      "execution_count": 5
    },
    {
      "cell_type": "markdown",
      "source": [
        "# Build Embeddings from All Focus Areas"
      ],
      "metadata": {
        "id": "tU3wkZdo4QuH"
      }
    },
    {
      "cell_type": "code",
      "source": [
        "\n",
        "focus_areas = df['focus_area'].unique().tolist()\n",
        "focus_areas.sort()\n",
        "\n",
        "\n",
        "df_focus = pd.DataFrame({'focus_area': focus_areas})\n",
        "df_focus.to_csv('./focus_areas.csv', index=False)\n",
        "\n",
        "\n",
        "docs = CSVLoader('./focus_areas.csv').load()\n",
        "print(f\"📄 Loaded {len(docs)} focus area documents.\")"
      ],
      "metadata": {
        "trusted": true,
        "execution": {
          "iopub.status.busy": "2025-06-20T14:56:52.834327Z",
          "iopub.execute_input": "2025-06-20T14:56:52.834659Z",
          "iopub.status.idle": "2025-06-20T14:56:52.882414Z",
          "shell.execute_reply.started": "2025-06-20T14:56:52.834639Z",
          "shell.execute_reply": "2025-06-20T14:56:52.881715Z"
        },
        "colab": {
          "base_uri": "https://localhost:8080/"
        },
        "id": "1gwsvXNy4QuH",
        "outputId": "af79c43d-4af9-4650-97c5-1661270c3da0"
      },
      "outputs": [
        {
          "output_type": "stream",
          "name": "stdout",
          "text": [
            "📄 Loaded 5125 focus area documents.\n"
          ]
        }
      ],
      "execution_count": 6
    },
    {
      "cell_type": "markdown",
      "source": [
        "# Build Vector Store + Search by “Cancer”"
      ],
      "metadata": {
        "id": "TNJ4UMFU4QuI"
      }
    },
    {
      "cell_type": "code",
      "source": [
        "# Initialize embeddings\n",
        "from langchain.embeddings import HuggingFaceEmbeddings\n",
        "embeddings = HuggingFaceEmbeddings(model_name=\"sentence-transformers/all-MiniLM-L6-v2\")\n",
        "# Build vector store\n",
        "vector_store = InMemoryVectorStore.from_documents(docs, embeddings)\n",
        "\n",
        "# Search for topics similar to \"cancer\"\n",
        "related_docs = vector_store.similarity_search(\"cancer\", k=150)\n",
        "\n",
        "\n",
        "cancer_topics = [doc.page_content.split(\"focus_area: \")[1] for doc in related_docs]\n",
        "\n"
      ],
      "metadata": {
        "trusted": true,
        "execution": {
          "iopub.status.busy": "2025-06-20T14:56:52.883218Z",
          "iopub.execute_input": "2025-06-20T14:56:52.883490Z",
          "iopub.status.idle": "2025-06-20T14:57:15.308432Z",
          "shell.execute_reply.started": "2025-06-20T14:56:52.883466Z",
          "shell.execute_reply": "2025-06-20T14:57:15.307718Z"
        },
        "id": "_ZmHp-ZI4QuI"
      },
      "outputs": [],
      "execution_count": null
    },
    {
      "cell_type": "markdown",
      "source": [
        "# Filter Original Dataset by These Topics"
      ],
      "metadata": {
        "id": "9R2ZpGU64QuI"
      }
    },
    {
      "cell_type": "code",
      "source": [
        "# Filter main dataframe\n",
        "cancer_df = df[df['focus_area'].isin(cancer_topics)]\n",
        "print(f\"📉 Filtered dataset size: {cancer_df.shape}\")"
      ],
      "metadata": {
        "trusted": true,
        "execution": {
          "iopub.status.busy": "2025-06-20T14:57:15.309194Z",
          "iopub.execute_input": "2025-06-20T14:57:15.309432Z",
          "iopub.status.idle": "2025-06-20T14:57:15.316859Z",
          "shell.execute_reply.started": "2025-06-20T14:57:15.309414Z",
          "shell.execute_reply": "2025-06-20T14:57:15.316141Z"
        },
        "colab": {
          "base_uri": "https://localhost:8080/"
        },
        "id": "oHp9lspV4QuJ",
        "outputId": "64c5df3b-5110-4df2-a93c-33759ee49cc1"
      },
      "outputs": [
        {
          "output_type": "stream",
          "name": "stdout",
          "text": [
            "📉 Filtered dataset size: (760, 4)\n"
          ]
        }
      ],
      "execution_count": 11
    },
    {
      "cell_type": "markdown",
      "source": [
        "# Preview Sample Cancer Q&A\n",
        "\n"
      ],
      "metadata": {
        "id": "7I5NQUUb4QuJ"
      }
    },
    {
      "cell_type": "code",
      "source": [
        "# Show 5 random examples\n",
        "cancer_df.sample(5, random_state=42)[['focus_area', 'question', 'answer']]"
      ],
      "metadata": {
        "trusted": true,
        "execution": {
          "iopub.status.busy": "2025-06-20T14:57:15.317612Z",
          "iopub.execute_input": "2025-06-20T14:57:15.317811Z",
          "iopub.status.idle": "2025-06-20T14:57:15.343275Z",
          "shell.execute_reply.started": "2025-06-20T14:57:15.317796Z",
          "shell.execute_reply": "2025-06-20T14:57:15.342265Z"
        },
        "colab": {
          "base_uri": "https://localhost:8080/",
          "height": 206
        },
        "id": "Q-lqPRJc4QuJ",
        "outputId": "f0d7d69e-fccb-4deb-d683-ed37cdaa0119"
      },
      "outputs": [
        {
          "output_type": "execute_result",
          "data": {
            "text/plain": [
              "                                             focus_area  \\\n",
              "1137                  Gastrointestinal Carcinoid Tumors   \n",
              "1031  Transitional Cell Cancer of the Renal Pelvis a...   \n",
              "470                                            Leukemia   \n",
              "1381                                 Male Breast Cancer   \n",
              "482                                         Lung Cancer   \n",
              "\n",
              "                                               question  \\\n",
              "1137  What are the treatments for Gastrointestinal C...   \n",
              "1031  What is the outlook for Transitional Cell Canc...   \n",
              "470              What are the treatments for Leukemia ?   \n",
              "1381               How to diagnose Male Breast Cancer ?   \n",
              "482                   Who is at risk for Lung Cancer? ?   \n",
              "\n",
              "                                                 answer  \n",
              "1137  Key Points\\n                    - There are di...  \n",
              "1031  Certain factors affect prognosis (chance of re...  \n",
              "470   Researchers are studying various drugs, immuno...  \n",
              "1381  Tests that examine the breasts are used to det...  \n",
              "482   If you smoke cigarettes, you are at much highe...  "
            ],
            "text/html": [
              "\n",
              "  <div id=\"df-4d3bbb9e-b189-4d1e-bb3c-ec0581074d39\" class=\"colab-df-container\">\n",
              "    <div>\n",
              "<style scoped>\n",
              "    .dataframe tbody tr th:only-of-type {\n",
              "        vertical-align: middle;\n",
              "    }\n",
              "\n",
              "    .dataframe tbody tr th {\n",
              "        vertical-align: top;\n",
              "    }\n",
              "\n",
              "    .dataframe thead th {\n",
              "        text-align: right;\n",
              "    }\n",
              "</style>\n",
              "<table border=\"1\" class=\"dataframe\">\n",
              "  <thead>\n",
              "    <tr style=\"text-align: right;\">\n",
              "      <th></th>\n",
              "      <th>focus_area</th>\n",
              "      <th>question</th>\n",
              "      <th>answer</th>\n",
              "    </tr>\n",
              "  </thead>\n",
              "  <tbody>\n",
              "    <tr>\n",
              "      <th>1137</th>\n",
              "      <td>Gastrointestinal Carcinoid Tumors</td>\n",
              "      <td>What are the treatments for Gastrointestinal C...</td>\n",
              "      <td>Key Points\\n                    - There are di...</td>\n",
              "    </tr>\n",
              "    <tr>\n",
              "      <th>1031</th>\n",
              "      <td>Transitional Cell Cancer of the Renal Pelvis a...</td>\n",
              "      <td>What is the outlook for Transitional Cell Canc...</td>\n",
              "      <td>Certain factors affect prognosis (chance of re...</td>\n",
              "    </tr>\n",
              "    <tr>\n",
              "      <th>470</th>\n",
              "      <td>Leukemia</td>\n",
              "      <td>What are the treatments for Leukemia ?</td>\n",
              "      <td>Researchers are studying various drugs, immuno...</td>\n",
              "    </tr>\n",
              "    <tr>\n",
              "      <th>1381</th>\n",
              "      <td>Male Breast Cancer</td>\n",
              "      <td>How to diagnose Male Breast Cancer ?</td>\n",
              "      <td>Tests that examine the breasts are used to det...</td>\n",
              "    </tr>\n",
              "    <tr>\n",
              "      <th>482</th>\n",
              "      <td>Lung Cancer</td>\n",
              "      <td>Who is at risk for Lung Cancer? ?</td>\n",
              "      <td>If you smoke cigarettes, you are at much highe...</td>\n",
              "    </tr>\n",
              "  </tbody>\n",
              "</table>\n",
              "</div>\n",
              "    <div class=\"colab-df-buttons\">\n",
              "\n",
              "  <div class=\"colab-df-container\">\n",
              "    <button class=\"colab-df-convert\" onclick=\"convertToInteractive('df-4d3bbb9e-b189-4d1e-bb3c-ec0581074d39')\"\n",
              "            title=\"Convert this dataframe to an interactive table.\"\n",
              "            style=\"display:none;\">\n",
              "\n",
              "  <svg xmlns=\"http://www.w3.org/2000/svg\" height=\"24px\" viewBox=\"0 -960 960 960\">\n",
              "    <path d=\"M120-120v-720h720v720H120Zm60-500h600v-160H180v160Zm220 220h160v-160H400v160Zm0 220h160v-160H400v160ZM180-400h160v-160H180v160Zm440 0h160v-160H620v160ZM180-180h160v-160H180v160Zm440 0h160v-160H620v160Z\"/>\n",
              "  </svg>\n",
              "    </button>\n",
              "\n",
              "  <style>\n",
              "    .colab-df-container {\n",
              "      display:flex;\n",
              "      gap: 12px;\n",
              "    }\n",
              "\n",
              "    .colab-df-convert {\n",
              "      background-color: #E8F0FE;\n",
              "      border: none;\n",
              "      border-radius: 50%;\n",
              "      cursor: pointer;\n",
              "      display: none;\n",
              "      fill: #1967D2;\n",
              "      height: 32px;\n",
              "      padding: 0 0 0 0;\n",
              "      width: 32px;\n",
              "    }\n",
              "\n",
              "    .colab-df-convert:hover {\n",
              "      background-color: #E2EBFA;\n",
              "      box-shadow: 0px 1px 2px rgba(60, 64, 67, 0.3), 0px 1px 3px 1px rgba(60, 64, 67, 0.15);\n",
              "      fill: #174EA6;\n",
              "    }\n",
              "\n",
              "    .colab-df-buttons div {\n",
              "      margin-bottom: 4px;\n",
              "    }\n",
              "\n",
              "    [theme=dark] .colab-df-convert {\n",
              "      background-color: #3B4455;\n",
              "      fill: #D2E3FC;\n",
              "    }\n",
              "\n",
              "    [theme=dark] .colab-df-convert:hover {\n",
              "      background-color: #434B5C;\n",
              "      box-shadow: 0px 1px 3px 1px rgba(0, 0, 0, 0.15);\n",
              "      filter: drop-shadow(0px 1px 2px rgba(0, 0, 0, 0.3));\n",
              "      fill: #FFFFFF;\n",
              "    }\n",
              "  </style>\n",
              "\n",
              "    <script>\n",
              "      const buttonEl =\n",
              "        document.querySelector('#df-4d3bbb9e-b189-4d1e-bb3c-ec0581074d39 button.colab-df-convert');\n",
              "      buttonEl.style.display =\n",
              "        google.colab.kernel.accessAllowed ? 'block' : 'none';\n",
              "\n",
              "      async function convertToInteractive(key) {\n",
              "        const element = document.querySelector('#df-4d3bbb9e-b189-4d1e-bb3c-ec0581074d39');\n",
              "        const dataTable =\n",
              "          await google.colab.kernel.invokeFunction('convertToInteractive',\n",
              "                                                    [key], {});\n",
              "        if (!dataTable) return;\n",
              "\n",
              "        const docLinkHtml = 'Like what you see? Visit the ' +\n",
              "          '<a target=\"_blank\" href=https://colab.research.google.com/notebooks/data_table.ipynb>data table notebook</a>'\n",
              "          + ' to learn more about interactive tables.';\n",
              "        element.innerHTML = '';\n",
              "        dataTable['output_type'] = 'display_data';\n",
              "        await google.colab.output.renderOutput(dataTable, element);\n",
              "        const docLink = document.createElement('div');\n",
              "        docLink.innerHTML = docLinkHtml;\n",
              "        element.appendChild(docLink);\n",
              "      }\n",
              "    </script>\n",
              "  </div>\n",
              "\n",
              "\n",
              "    <div id=\"df-4dd2b23c-92c0-4f10-9e3c-a220148fad98\">\n",
              "      <button class=\"colab-df-quickchart\" onclick=\"quickchart('df-4dd2b23c-92c0-4f10-9e3c-a220148fad98')\"\n",
              "                title=\"Suggest charts\"\n",
              "                style=\"display:none;\">\n",
              "\n",
              "<svg xmlns=\"http://www.w3.org/2000/svg\" height=\"24px\"viewBox=\"0 0 24 24\"\n",
              "     width=\"24px\">\n",
              "    <g>\n",
              "        <path d=\"M19 3H5c-1.1 0-2 .9-2 2v14c0 1.1.9 2 2 2h14c1.1 0 2-.9 2-2V5c0-1.1-.9-2-2-2zM9 17H7v-7h2v7zm4 0h-2V7h2v10zm4 0h-2v-4h2v4z\"/>\n",
              "    </g>\n",
              "</svg>\n",
              "      </button>\n",
              "\n",
              "<style>\n",
              "  .colab-df-quickchart {\n",
              "      --bg-color: #E8F0FE;\n",
              "      --fill-color: #1967D2;\n",
              "      --hover-bg-color: #E2EBFA;\n",
              "      --hover-fill-color: #174EA6;\n",
              "      --disabled-fill-color: #AAA;\n",
              "      --disabled-bg-color: #DDD;\n",
              "  }\n",
              "\n",
              "  [theme=dark] .colab-df-quickchart {\n",
              "      --bg-color: #3B4455;\n",
              "      --fill-color: #D2E3FC;\n",
              "      --hover-bg-color: #434B5C;\n",
              "      --hover-fill-color: #FFFFFF;\n",
              "      --disabled-bg-color: #3B4455;\n",
              "      --disabled-fill-color: #666;\n",
              "  }\n",
              "\n",
              "  .colab-df-quickchart {\n",
              "    background-color: var(--bg-color);\n",
              "    border: none;\n",
              "    border-radius: 50%;\n",
              "    cursor: pointer;\n",
              "    display: none;\n",
              "    fill: var(--fill-color);\n",
              "    height: 32px;\n",
              "    padding: 0;\n",
              "    width: 32px;\n",
              "  }\n",
              "\n",
              "  .colab-df-quickchart:hover {\n",
              "    background-color: var(--hover-bg-color);\n",
              "    box-shadow: 0 1px 2px rgba(60, 64, 67, 0.3), 0 1px 3px 1px rgba(60, 64, 67, 0.15);\n",
              "    fill: var(--button-hover-fill-color);\n",
              "  }\n",
              "\n",
              "  .colab-df-quickchart-complete:disabled,\n",
              "  .colab-df-quickchart-complete:disabled:hover {\n",
              "    background-color: var(--disabled-bg-color);\n",
              "    fill: var(--disabled-fill-color);\n",
              "    box-shadow: none;\n",
              "  }\n",
              "\n",
              "  .colab-df-spinner {\n",
              "    border: 2px solid var(--fill-color);\n",
              "    border-color: transparent;\n",
              "    border-bottom-color: var(--fill-color);\n",
              "    animation:\n",
              "      spin 1s steps(1) infinite;\n",
              "  }\n",
              "\n",
              "  @keyframes spin {\n",
              "    0% {\n",
              "      border-color: transparent;\n",
              "      border-bottom-color: var(--fill-color);\n",
              "      border-left-color: var(--fill-color);\n",
              "    }\n",
              "    20% {\n",
              "      border-color: transparent;\n",
              "      border-left-color: var(--fill-color);\n",
              "      border-top-color: var(--fill-color);\n",
              "    }\n",
              "    30% {\n",
              "      border-color: transparent;\n",
              "      border-left-color: var(--fill-color);\n",
              "      border-top-color: var(--fill-color);\n",
              "      border-right-color: var(--fill-color);\n",
              "    }\n",
              "    40% {\n",
              "      border-color: transparent;\n",
              "      border-right-color: var(--fill-color);\n",
              "      border-top-color: var(--fill-color);\n",
              "    }\n",
              "    60% {\n",
              "      border-color: transparent;\n",
              "      border-right-color: var(--fill-color);\n",
              "    }\n",
              "    80% {\n",
              "      border-color: transparent;\n",
              "      border-right-color: var(--fill-color);\n",
              "      border-bottom-color: var(--fill-color);\n",
              "    }\n",
              "    90% {\n",
              "      border-color: transparent;\n",
              "      border-bottom-color: var(--fill-color);\n",
              "    }\n",
              "  }\n",
              "</style>\n",
              "\n",
              "      <script>\n",
              "        async function quickchart(key) {\n",
              "          const quickchartButtonEl =\n",
              "            document.querySelector('#' + key + ' button');\n",
              "          quickchartButtonEl.disabled = true;  // To prevent multiple clicks.\n",
              "          quickchartButtonEl.classList.add('colab-df-spinner');\n",
              "          try {\n",
              "            const charts = await google.colab.kernel.invokeFunction(\n",
              "                'suggestCharts', [key], {});\n",
              "          } catch (error) {\n",
              "            console.error('Error during call to suggestCharts:', error);\n",
              "          }\n",
              "          quickchartButtonEl.classList.remove('colab-df-spinner');\n",
              "          quickchartButtonEl.classList.add('colab-df-quickchart-complete');\n",
              "        }\n",
              "        (() => {\n",
              "          let quickchartButtonEl =\n",
              "            document.querySelector('#df-4dd2b23c-92c0-4f10-9e3c-a220148fad98 button');\n",
              "          quickchartButtonEl.style.display =\n",
              "            google.colab.kernel.accessAllowed ? 'block' : 'none';\n",
              "        })();\n",
              "      </script>\n",
              "    </div>\n",
              "\n",
              "    </div>\n",
              "  </div>\n"
            ],
            "application/vnd.google.colaboratory.intrinsic+json": {
              "type": "dataframe",
              "summary": "{\n  \"name\": \"cancer_df\",\n  \"rows\": 5,\n  \"fields\": [\n    {\n      \"column\": \"focus_area\",\n      \"properties\": {\n        \"dtype\": \"string\",\n        \"num_unique_values\": 5,\n        \"samples\": [\n          \"Transitional Cell Cancer of the Renal Pelvis and Ureter\",\n          \"Lung Cancer\",\n          \"Leukemia\"\n        ],\n        \"semantic_type\": \"\",\n        \"description\": \"\"\n      }\n    },\n    {\n      \"column\": \"question\",\n      \"properties\": {\n        \"dtype\": \"string\",\n        \"num_unique_values\": 5,\n        \"samples\": [\n          \"What is the outlook for Transitional Cell Cancer of the Renal Pelvis and Ureter ?\",\n          \"Who is at risk for Lung Cancer? ?\",\n          \"What are the treatments for Leukemia ?\"\n        ],\n        \"semantic_type\": \"\",\n        \"description\": \"\"\n      }\n    },\n    {\n      \"column\": \"answer\",\n      \"properties\": {\n        \"dtype\": \"string\",\n        \"num_unique_values\": 5,\n        \"samples\": [\n          \"Certain factors affect prognosis (chance of recovery) and treatment options. The prognosis (chance of recovery) depends on the stage and grade of the tumor.   The treatment options depend on the following:         - The stage and grade of the tumor.    -  Where the tumor is.    - Whether the patient's other kidney is healthy.    - Whether the cancer has recurred.        Most transitional cell cancer of the renal pelvis and ureter can be cured if found early.\",\n          \"If you smoke cigarettes, you are at much higher risk for lung cancer than a person who has never smoked. The risk of dying from lung cancer is 23 times higher for men who smoke and 13 times higher for women who smoke than for people who have never smoked. Stopping smoking greatly reduces your risk for developing lung cancer. But after you stop, the risk goes down slowly. Ten years after the last cigarette, the risk of dying from lung cancer drops by 50 percent. Each U.S. state and territory has a free quitline to provide you with information and resources to help you quit smoking. To reach the quitline in your area, dial toll-free, 1-800-QUIT-NOW. (Watch the video to learn about the effect smoking can have on an older adult's health. To enlarge the video, click the brackets in the lower right-hand corner. To reduce the video, press the Escape (Esc) button on your keyboard.)\",\n          \"Researchers are studying various drugs, immunotherapies, and other types of treatments. Because leukemia is a complicated disease, researchers are also studying the effectiveness of using combinations of treatments. Following are a few examples of some areas of current research. The drug imatinib (Gleevec) is important in the treatment of chronic myeloid leukemia. However, imatinib stops working in some people with leukemia because the cells become resistant. Fortunately, two drugs, dasatinib (Sprycel) and nilotinib (Tasigna), are being used to treat people who stop responding to imatinib. Both are approved by the FDA for use in patients. These drugs work against the same abnormal protein targeted by imatinib, but in different ways. Gene therapy -- replacing, manipulating, or supplementing nonfunctional genes with healthy genes -- is being explored for treatment of leukemia. It is being studied as a way to stimulate a patient's immune system to kill leukemia cells and also to interfere with the production of proteins that cause cells to become cancerous.  Learn more about ongoing leukemia research.\"\n        ],\n        \"semantic_type\": \"\",\n        \"description\": \"\"\n      }\n    }\n  ]\n}"
            }
          },
          "metadata": {},
          "execution_count": 12
        }
      ],
      "execution_count": 12
    },
    {
      "cell_type": "markdown",
      "source": [
        "# Focus Area Distribution\n",
        "\n",
        "This shows which cancers dominate the dataset (e.g., breast, prostate, skin)."
      ],
      "metadata": {
        "id": "6qV8MB6S4QuK"
      }
    },
    {
      "cell_type": "code",
      "source": [
        "plt.figure(figsize=(10, 6))\n",
        "sns.countplot(data=cancer_df, y='focus_area', order=cancer_df['focus_area'].value_counts().head(20).index, palette='magma')\n",
        "plt.title(\"Top 20 Cancer Focus Areas\")\n",
        "plt.xlabel(\"Number of Q&A Pairs\")\n",
        "plt.tight_layout()\n",
        "plt.show()"
      ],
      "metadata": {
        "trusted": true,
        "execution": {
          "iopub.status.busy": "2025-06-20T14:57:15.344084Z",
          "iopub.execute_input": "2025-06-20T14:57:15.344349Z",
          "iopub.status.idle": "2025-06-20T14:57:15.672624Z",
          "shell.execute_reply.started": "2025-06-20T14:57:15.344322Z",
          "shell.execute_reply": "2025-06-20T14:57:15.671843Z"
        },
        "colab": {
          "base_uri": "https://localhost:8080/",
          "height": 601
        },
        "id": "JOWQW3jR4QuK",
        "outputId": "7695d69c-49cc-4244-c010-5215263d7188"
      },
      "outputs": [
        {
          "output_type": "display_data",
          "data": {
            "text/plain": [
              "<Figure size 1000x600 with 1 Axes>"
            ],
            "image/png": "[encoded data removed]"
          },
          "metadata": {}
        }
      ],
      "execution_count": 13
    },
    {
      "cell_type": "markdown",
      "source": [
        "# Question Length Analysis"
      ],
      "metadata": {
        "id": "k5Cn7Vjp4QuK"
      }
    },
    {
      "cell_type": "code",
      "source": [
        "# Add column for question length\n",
        "cancer_df['question_length'] = cancer_df['question'].apply(lambda x: len(str(x).split()))\n",
        "\n",
        "# Summary stats\n",
        "print(\"📝 Question length (words):\")\n",
        "print(cancer_df['question_length'].describe())\n",
        "\n",
        "# Histogram\n",
        "plt.figure(figsize=(8, 5))\n",
        "sns.histplot(cancer_df['question_length'], bins=30, kde=True)\n",
        "plt.title(\"Distribution of Question Lengths\")\n",
        "plt.xlabel(\"Words per Question\")\n",
        "plt.ylabel(\"Count\")\n",
        "plt.grid(True)\n",
        "plt.tight_layout()\n",
        "plt.show()"
      ],
      "metadata": {
        "trusted": true,
        "execution": {
          "iopub.status.busy": "2025-06-20T14:57:15.674912Z",
          "iopub.execute_input": "2025-06-20T14:57:15.675167Z",
          "iopub.status.idle": "2025-06-20T14:57:16.234538Z",
          "shell.execute_reply.started": "2025-06-20T14:57:15.675149Z",
          "shell.execute_reply": "2025-06-20T14:57:16.233722Z"
        },
        "colab": {
          "base_uri": "https://localhost:8080/",
          "height": 675
        },
        "id": "AU1O4Tq_4QuL",
        "outputId": "3f49b5d1-67bd-4cea-d57f-6308cffe4be0"
      },
      "outputs": [
        {
          "output_type": "stream",
          "name": "stdout",
          "text": [
            "📝 Question length (words):\n",
            "count    760.000000\n",
            "mean       8.317105\n",
            "std        2.373708\n",
            "min        4.000000\n",
            "25%        6.000000\n",
            "50%        8.000000\n",
            "75%        9.000000\n",
            "max       19.000000\n",
            "Name: question_length, dtype: float64\n"
          ]
        },
        {
          "output_type": "display_data",
          "data": {
            "text/plain": [
              "<Figure size 800x500 with 1 Axes>"
            ],
            "image/png": "[encoded data removed]"
          },
          "metadata": {}
        }
      ],
      "execution_count": 14
    },
    {
      "cell_type": "code",
      "source": [
        "cancer_df.head(100)"
      ],
      "metadata": {
        "colab": {
          "base_uri": "https://localhost:8080/",
          "height": 424
        },
        "id": "ZkqCuGLW9lYf",
        "outputId": "5734bb49-797c-45b7-e0ce-b3433f4d457f"
      },
      "execution_count": 21,
      "outputs": [
        {
          "output_type": "execute_result",
          "data": {
            "text/plain": [
              "                                              question  \\\n",
              "168                    What is (are) Prostate Cancer ?   \n",
              "169              Who is at risk for Prostate Cancer? ?   \n",
              "170         What are the symptoms of Prostate Cancer ?   \n",
              "171      What are the treatments for Prostate Cancer ?   \n",
              "172      What are the treatments for Prostate Cancer ?   \n",
              "..                                                 ...   \n",
              "468                           What is (are) Leukemia ?   \n",
              "469  what research (or clinical trials) is being do...   \n",
              "470             What are the treatments for Leukemia ?   \n",
              "471                        What is (are) Lung Cancer ?   \n",
              "472                          What causes Lung Cancer ?   \n",
              "\n",
              "                                                answer           source  \\\n",
              "168  How Tumors Form The body is made up of many ty...  NIHSeniorHealth   \n",
              "169  Scientists don't know exactly what causes pros...  NIHSeniorHealth   \n",
              "170  Symptoms Most cancers in their early, most tre...  NIHSeniorHealth   \n",
              "171  If tests show that you have cancer, you should...  NIHSeniorHealth   \n",
              "172  Choosing Treatment There are a number of ways ...  NIHSeniorHealth   \n",
              "..                                                 ...              ...   \n",
              "468  Radiation therapy is a cancer treatment that u...  NIHSeniorHealth   \n",
              "469  Clinical trials are research studies in which ...  NIHSeniorHealth   \n",
              "470  Researchers are studying various drugs, immuno...  NIHSeniorHealth   \n",
              "471  How Tumors Form The body is made up of many ty...  NIHSeniorHealth   \n",
              "472  Tobacco Products and Cancer Using tobacco prod...  NIHSeniorHealth   \n",
              "\n",
              "          focus_area  question_length  \n",
              "168  Prostate Cancer                6  \n",
              "169  Prostate Cancer                8  \n",
              "170  Prostate Cancer                8  \n",
              "171  Prostate Cancer                8  \n",
              "172  Prostate Cancer                8  \n",
              "..               ...              ...  \n",
              "468         Leukemia                5  \n",
              "469         Leukemia               11  \n",
              "470         Leukemia                7  \n",
              "471      Lung Cancer                6  \n",
              "472      Lung Cancer                5  \n",
              "\n",
              "[100 rows x 5 columns]"
            ],
            "text/html": [
              "\n",
              "  <div id=\"df-56866c1a-346d-405b-9b8a-e0c75bf0eac9\" class=\"colab-df-container\">\n",
              "    <div>\n",
              "<style scoped>\n",
              "    .dataframe tbody tr th:only-of-type {\n",
              "        vertical-align: middle;\n",
              "    }\n",
              "\n",
              "    .dataframe tbody tr th {\n",
              "        vertical-align: top;\n",
              "    }\n",
              "\n",
              "    .dataframe thead th {\n",
              "        text-align: right;\n",
              "    }\n",
              "</style>\n",
              "<table border=\"1\" class=\"dataframe\">\n",
              "  <thead>\n",
              "    <tr style=\"text-align: right;\">\n",
              "      <th></th>\n",
              "      <th>question</th>\n",
              "      <th>answer</th>\n",
              "      <th>source</th>\n",
              "      <th>focus_area</th>\n",
              "      <th>question_length</th>\n",
              "    </tr>\n",
              "  </thead>\n",
              "  <tbody>\n",
              "    <tr>\n",
              "      <th>168</th>\n",
              "      <td>What is (are) Prostate Cancer ?</td>\n",
              "      <td>How Tumors Form The body is made up of many ty...</td>\n",
              "      <td>NIHSeniorHealth</td>\n",
              "      <td>Prostate Cancer</td>\n",
              "      <td>6</td>\n",
              "    </tr>\n",
              "    <tr>\n",
              "      <th>169</th>\n",
              "      <td>Who is at risk for Prostate Cancer? ?</td>\n",
              "      <td>Scientists don't know exactly what causes pros...</td>\n",
              "      <td>NIHSeniorHealth</td>\n",
              "      <td>Prostate Cancer</td>\n",
              "      <td>8</td>\n",
              "    </tr>\n",
              "    <tr>\n",
              "      <th>170</th>\n",
              "      <td>What are the symptoms of Prostate Cancer ?</td>\n",
              "      <td>Symptoms Most cancers in their early, most tre...</td>\n",
              "      <td>NIHSeniorHealth</td>\n",
              "      <td>Prostate Cancer</td>\n",
              "      <td>8</td>\n",
              "    </tr>\n",
              "    <tr>\n",
              "      <th>171</th>\n",
              "      <td>What are the treatments for Prostate Cancer ?</td>\n",
              "      <td>If tests show that you have cancer, you should...</td>\n",
              "      <td>NIHSeniorHealth</td>\n",
              "      <td>Prostate Cancer</td>\n",
              "      <td>8</td>\n",
              "    </tr>\n",
              "    <tr>\n",
              "      <th>172</th>\n",
              "      <td>What are the treatments for Prostate Cancer ?</td>\n",
              "      <td>Choosing Treatment There are a number of ways ...</td>\n",
              "      <td>NIHSeniorHealth</td>\n",
              "      <td>Prostate Cancer</td>\n",
              "      <td>8</td>\n",
              "    </tr>\n",
              "    <tr>\n",
              "      <th>...</th>\n",
              "      <td>...</td>\n",
              "      <td>...</td>\n",
              "      <td>...</td>\n",
              "      <td>...</td>\n",
              "      <td>...</td>\n",
              "    </tr>\n",
              "    <tr>\n",
              "      <th>468</th>\n",
              "      <td>What is (are) Leukemia ?</td>\n",
              "      <td>Radiation therapy is a cancer treatment that u...</td>\n",
              "      <td>NIHSeniorHealth</td>\n",
              "      <td>Leukemia</td>\n",
              "      <td>5</td>\n",
              "    </tr>\n",
              "    <tr>\n",
              "      <th>469</th>\n",
              "      <td>what research (or clinical trials) is being do...</td>\n",
              "      <td>Clinical trials are research studies in which ...</td>\n",
              "      <td>NIHSeniorHealth</td>\n",
              "      <td>Leukemia</td>\n",
              "      <td>11</td>\n",
              "    </tr>\n",
              "    <tr>\n",
              "      <th>470</th>\n",
              "      <td>What are the treatments for Leukemia ?</td>\n",
              "      <td>Researchers are studying various drugs, immuno...</td>\n",
              "      <td>NIHSeniorHealth</td>\n",
              "      <td>Leukemia</td>\n",
              "      <td>7</td>\n",
              "    </tr>\n",
              "    <tr>\n",
              "      <th>471</th>\n",
              "      <td>What is (are) Lung Cancer ?</td>\n",
              "      <td>How Tumors Form The body is made up of many ty...</td>\n",
              "      <td>NIHSeniorHealth</td>\n",
              "      <td>Lung Cancer</td>\n",
              "      <td>6</td>\n",
              "    </tr>\n",
              "    <tr>\n",
              "      <th>472</th>\n",
              "      <td>What causes Lung Cancer ?</td>\n",
              "      <td>Tobacco Products and Cancer Using tobacco prod...</td>\n",
              "      <td>NIHSeniorHealth</td>\n",
              "      <td>Lung Cancer</td>\n",
              "      <td>5</td>\n",
              "    </tr>\n",
              "  </tbody>\n",
              "</table>\n",
              "<p>100 rows × 5 columns</p>\n",
              "</div>\n",
              "    <div class=\"colab-df-buttons\">\n",
              "\n",
              "  <div class=\"colab-df-container\">\n",
              "    <button class=\"colab-df-convert\" onclick=\"convertToInteractive('df-56866c1a-346d-405b-9b8a-e0c75bf0eac9')\"\n",
              "            title=\"Convert this dataframe to an interactive table.\"\n",
              "            style=\"display:none;\">\n",
              "\n",
              "  <svg xmlns=\"http://www.w3.org/2000/svg\" height=\"24px\" viewBox=\"0 -960 960 960\">\n",
              "    <path d=\"M120-120v-720h720v720H120Zm60-500h600v-160H180v160Zm220 220h160v-160H400v160Zm0 220h160v-160H400v160ZM180-400h160v-160H180v160Zm440 0h160v-160H620v160ZM180-180h160v-160H180v160Zm440 0h160v-160H620v160Z\"/>\n",
              "  </svg>\n",
              "    </button>\n",
              "\n",
              "  <style>\n",
              "    .colab-df-container {\n",
              "      display:flex;\n",
              "      gap: 12px;\n",
              "    }\n",
              "\n",
              "    .colab-df-convert {\n",
              "      background-color: #E8F0FE;\n",
              "      border: none;\n",
              "      border-radius: 50%;\n",
              "      cursor: pointer;\n",
              "      display: none;\n",
              "      fill: #1967D2;\n",
              "      height: 32px;\n",
              "      padding: 0 0 0 0;\n",
              "      width: 32px;\n",
              "    }\n",
              "\n",
              "    .colab-df-convert:hover {\n",
              "      background-color: #E2EBFA;\n",
              "      box-shadow: 0px 1px 2px rgba(60, 64, 67, 0.3), 0px 1px 3px 1px rgba(60, 64, 67, 0.15);\n",
              "      fill: #174EA6;\n",
              "    }\n",
              "\n",
              "    .colab-df-buttons div {\n",
              "      margin-bottom: 4px;\n",
              "    }\n",
              "\n",
              "    [theme=dark] .colab-df-convert {\n",
              "      background-color: #3B4455;\n",
              "      fill: #D2E3FC;\n",
              "    }\n",
              "\n",
              "    [theme=dark] .colab-df-convert:hover {\n",
              "      background-color: #434B5C;\n",
              "      box-shadow: 0px 1px 3px 1px rgba(0, 0, 0, 0.15);\n",
              "      filter: drop-shadow(0px 1px 2px rgba(0, 0, 0, 0.3));\n",
              "      fill: #FFFFFF;\n",
              "    }\n",
              "  </style>\n",
              "\n",
              "    <script>\n",
              "      const buttonEl =\n",
              "        document.querySelector('#df-56866c1a-346d-405b-9b8a-e0c75bf0eac9 button.colab-df-convert');\n",
              "      buttonEl.style.display =\n",
              "        google.colab.kernel.accessAllowed ? 'block' : 'none';\n",
              "\n",
              "      async function convertToInteractive(key) {\n",
              "        const element = document.querySelector('#df-56866c1a-346d-405b-9b8a-e0c75bf0eac9');\n",
              "        const dataTable =\n",
              "          await google.colab.kernel.invokeFunction('convertToInteractive',\n",
              "                                                    [key], {});\n",
              "        if (!dataTable) return;\n",
              "\n",
              "        const docLinkHtml = 'Like what you see? Visit the ' +\n",
              "          '<a target=\"_blank\" href=https://colab.research.google.com/notebooks/data_table.ipynb>data table notebook</a>'\n",
              "          + ' to learn more about interactive tables.';\n",
              "        element.innerHTML = '';\n",
              "        dataTable['output_type'] = 'display_data';\n",
              "        await google.colab.output.renderOutput(dataTable, element);\n",
              "        const docLink = document.createElement('div');\n",
              "        docLink.innerHTML = docLinkHtml;\n",
              "        element.appendChild(docLink);\n",
              "      }\n",
              "    </script>\n",
              "  </div>\n",
              "\n",
              "\n",
              "    <div id=\"df-d68474b2-6b26-4751-8ba9-06fb87faa0b4\">\n",
              "      <button class=\"colab-df-quickchart\" onclick=\"quickchart('df-d68474b2-6b26-4751-8ba9-06fb87faa0b4')\"\n",
              "                title=\"Suggest charts\"\n",
              "                style=\"display:none;\">\n",
              "\n",
              "<svg xmlns=\"http://www.w3.org/2000/svg\" height=\"24px\"viewBox=\"0 0 24 24\"\n",
              "     width=\"24px\">\n",
              "    <g>\n",
              "        <path d=\"M19 3H5c-1.1 0-2 .9-2 2v14c0 1.1.9 2 2 2h14c1.1 0 2-.9 2-2V5c0-1.1-.9-2-2-2zM9 17H7v-7h2v7zm4 0h-2V7h2v10zm4 0h-2v-4h2v4z\"/>\n",
              "    </g>\n",
              "</svg>\n",
              "      </button>\n",
              "\n",
              "<style>\n",
              "  .colab-df-quickchart {\n",
              "      --bg-color: #E8F0FE;\n",
              "      --fill-color: #1967D2;\n",
              "      --hover-bg-color: #E2EBFA;\n",
              "      --hover-fill-color: #174EA6;\n",
              "      --disabled-fill-color: #AAA;\n",
              "      --disabled-bg-color: #DDD;\n",
              "  }\n",
              "\n",
              "  [theme=dark] .colab-df-quickchart {\n",
              "      --bg-color: #3B4455;\n",
              "      --fill-color: #D2E3FC;\n",
              "      --hover-bg-color: #434B5C;\n",
              "      --hover-fill-color: #FFFFFF;\n",
              "      --disabled-bg-color: #3B4455;\n",
              "      --disabled-fill-color: #666;\n",
              "  }\n",
              "\n",
              "  .colab-df-quickchart {\n",
              "    background-color: var(--bg-color);\n",
              "    border: none;\n",
              "    border-radius: 50%;\n",
              "    cursor: pointer;\n",
              "    display: none;\n",
              "    fill: var(--fill-color);\n",
              "    height: 32px;\n",
              "    padding: 0;\n",
              "    width: 32px;\n",
              "  }\n",
              "\n",
              "  .colab-df-quickchart:hover {\n",
              "    background-color: var(--hover-bg-color);\n",
              "    box-shadow: 0 1px 2px rgba(60, 64, 67, 0.3), 0 1px 3px 1px rgba(60, 64, 67, 0.15);\n",
              "    fill: var(--button-hover-fill-color);\n",
              "  }\n",
              "\n",
              "  .colab-df-quickchart-complete:disabled,\n",
              "  .colab-df-quickchart-complete:disabled:hover {\n",
              "    background-color: var(--disabled-bg-color);\n",
              "    fill: var(--disabled-fill-color);\n",
              "    box-shadow: none;\n",
              "  }\n",
              "\n",
              "  .colab-df-spinner {\n",
              "    border: 2px solid var(--fill-color);\n",
              "    border-color: transparent;\n",
              "    border-bottom-color: var(--fill-color);\n",
              "    animation:\n",
              "      spin 1s steps(1) infinite;\n",
              "  }\n",
              "\n",
              "  @keyframes spin {\n",
              "    0% {\n",
              "      border-color: transparent;\n",
              "      border-bottom-color: var(--fill-color);\n",
              "      border-left-color: var(--fill-color);\n",
              "    }\n",
              "    20% {\n",
              "      border-color: transparent;\n",
              "      border-left-color: var(--fill-color);\n",
              "      border-top-color: var(--fill-color);\n",
              "    }\n",
              "    30% {\n",
              "      border-color: transparent;\n",
              "      border-left-color: var(--fill-color);\n",
              "      border-top-color: var(--fill-color);\n",
              "      border-right-color: var(--fill-color);\n",
              "    }\n",
              "    40% {\n",
              "      border-color: transparent;\n",
              "      border-right-color: var(--fill-color);\n",
              "      border-top-color: var(--fill-color);\n",
              "    }\n",
              "    60% {\n",
              "      border-color: transparent;\n",
              "      border-right-color: var(--fill-color);\n",
              "    }\n",
              "    80% {\n",
              "      border-color: transparent;\n",
              "      border-right-color: var(--fill-color);\n",
              "      border-bottom-color: var(--fill-color);\n",
              "    }\n",
              "    90% {\n",
              "      border-color: transparent;\n",
              "      border-bottom-color: var(--fill-color);\n",
              "    }\n",
              "  }\n",
              "</style>\n",
              "\n",
              "      <script>\n",
              "        async function quickchart(key) {\n",
              "          const quickchartButtonEl =\n",
              "            document.querySelector('#' + key + ' button');\n",
              "          quickchartButtonEl.disabled = true;  // To prevent multiple clicks.\n",
              "          quickchartButtonEl.classList.add('colab-df-spinner');\n",
              "          try {\n",
              "            const charts = await google.colab.kernel.invokeFunction(\n",
              "                'suggestCharts', [key], {});\n",
              "          } catch (error) {\n",
              "            console.error('Error during call to suggestCharts:', error);\n",
              "          }\n",
              "          quickchartButtonEl.classList.remove('colab-df-spinner');\n",
              "          quickchartButtonEl.classList.add('colab-df-quickchart-complete');\n",
              "        }\n",
              "        (() => {\n",
              "          let quickchartButtonEl =\n",
              "            document.querySelector('#df-d68474b2-6b26-4751-8ba9-06fb87faa0b4 button');\n",
              "          quickchartButtonEl.style.display =\n",
              "            google.colab.kernel.accessAllowed ? 'block' : 'none';\n",
              "        })();\n",
              "      </script>\n",
              "    </div>\n",
              "\n",
              "    </div>\n",
              "  </div>\n"
            ],
            "application/vnd.google.colaboratory.intrinsic+json": {
              "type": "dataframe",
              "variable_name": "cancer_df",
              "summary": "{\n  \"name\": \"cancer_df\",\n  \"rows\": 760,\n  \"fields\": [\n    {\n      \"column\": \"question\",\n      \"properties\": {\n        \"dtype\": \"string\",\n        \"num_unique_values\": 568,\n        \"samples\": [\n          \"what research (or clinical trials) is being done for Endometrial Cancer ?\",\n          \"What is (are) Anal Cancer ?\",\n          \"What is (are) Merkel Cell Carcinoma ?\"\n        ],\n        \"semantic_type\": \"\",\n        \"description\": \"\"\n      }\n    },\n    {\n      \"column\": \"answer\",\n      \"properties\": {\n        \"dtype\": \"string\",\n        \"num_unique_values\": 746,\n        \"samples\": [\n          \"Certain factors affect prognosis (chance of recovery) and treatment options. The prognosis (chance of recovery) and treatment options depend on the following:         - The type of germ cell tumor.    - Where the tumor first began to grow.    - The stage of the cancer (whether it has spread to nearby areas or to other places in the body).    - How well the tumor responds to treatment (lower AFP and -hCG levels).    - Whether the tumor can be completely removed by surgery.    - The patient's age and general health.    - Whether the cancer has just been diagnosed or has recurred (come back).        The prognosis for childhood extracranial germ cell tumors, especially ovarian germ cell tumors, is good.\",\n          \"Different factors increase or decrease the risk of getting ovarian, fallopian tube, and primary peritoneal cancer.\\n\\t                    \\tAnything that increases your chance of getting a disease is called a risk factor. Anything that decreases your chance of getting a disease is called a protective factor.   For information about risk factors and protective factors for ovarian cancer, see the Ovarian, Fallopian Tube, and Primary Peritoneal Cancer Prevention summary.   Talk to your doctor about your risk of ovarian cancer.\\n\\t                \\t\\n                \\t\\t\\n\\t\\t                    Screening tests have risks.\\n\\t\\t                    Decisions about screening tests can be difficult. Not all screening tests are helpful and most have risks. Before having any screening test, you may want to talk about the test with your doctor. It is important to know the risks of the test and whether it has been proven to reduce the risk of dying from cancer.\\n\\t\\t                \\n\\t\\t                \\n\\t\\t                    The risks of ovarian, fallopian tube, and primary peritoneal cancer screening tests include the following:\\n\\t\\t                    Finding ovarian, fallopian tube, and primary peritoneal cancer may not improve health or help a woman live longer.    Screening may not improve your health or help you live longer if you have advanced ovarian cancer or if it has already spread to other places in your body.        False-negative test results can occur.    Screening test results may appear to be normal even though ovarian cancer is present. A woman who receives a false-negative test result (one that shows there is no cancer when there really is) may delay seeking medical care even if she has symptoms.       False-positive test results can occur.     Screening test results may appear to be abnormal even though no cancer is present. A false-positive test result (one that shows there is cancer when there really isn't) can cause anxiety and is usually followed by more tests (such as a laparoscopy or a laparotomy to see if cancer is present), which also have risks. Problems caused by tests used to diagnose ovarian cancer include infection, blood loss, bowel injury, and heart and blood vessel problems. A false-positive test result can also lead to an unneeded oophorectomy (removal of one or both ovaries).\",\n          \"Researchers are studying various drugs, immunotherapies, and other types of treatments. Because leukemia is a complicated disease, researchers are also studying the effectiveness of using combinations of treatments. Following are a few examples of some areas of current research. The drug imatinib (Gleevec) is important in the treatment of chronic myeloid leukemia. However, imatinib stops working in some people with leukemia because the cells become resistant. Fortunately, two drugs, dasatinib (Sprycel) and nilotinib (Tasigna), are being used to treat people who stop responding to imatinib. Both are approved by the FDA for use in patients. These drugs work against the same abnormal protein targeted by imatinib, but in different ways. Gene therapy -- replacing, manipulating, or supplementing nonfunctional genes with healthy genes -- is being explored for treatment of leukemia. It is being studied as a way to stimulate a patient's immune system to kill leukemia cells and also to interfere with the production of proteins that cause cells to become cancerous.  Learn more about ongoing leukemia research.\"\n        ],\n        \"semantic_type\": \"\",\n        \"description\": \"\"\n      }\n    },\n    {\n      \"column\": \"source\",\n      \"properties\": {\n        \"dtype\": \"category\",\n        \"num_unique_values\": 6,\n        \"samples\": [\n          \"NIHSeniorHealth\",\n          \"CancerGov\",\n          \"GHR\"\n        ],\n        \"semantic_type\": \"\",\n        \"description\": \"\"\n      }\n    },\n    {\n      \"column\": \"focus_area\",\n      \"properties\": {\n        \"dtype\": \"category\",\n        \"num_unique_values\": 150,\n        \"samples\": [\n          \"Head and Neck Cancer\",\n          \"Ovarian Low Malignant Potential Tumors\",\n          \"Ewing's family of tumors\"\n        ],\n        \"semantic_type\": \"\",\n        \"description\": \"\"\n      }\n    },\n    {\n      \"column\": \"question_length\",\n      \"properties\": {\n        \"dtype\": \"number\",\n        \"std\": 2,\n        \"min\": 4,\n        \"max\": 19,\n        \"num_unique_values\": 16,\n        \"samples\": [\n          6,\n          8,\n          7\n        ],\n        \"semantic_type\": \"\",\n        \"description\": \"\"\n      }\n    }\n  ]\n}"
            }
          },
          "metadata": {},
          "execution_count": 21
        }
      ]
    },
    {
      "cell_type": "markdown",
      "source": [
        "# Save Filtered Dataset"
      ],
      "metadata": {
        "id": "C9hDmiWg4QuL"
      }
    },
    {
      "cell_type": "code",
      "source": [
        "\n",
        "cancer_df.to_csv('./cancer_qna.csv', index=False)\n"
      ],
      "metadata": {
        "trusted": true,
        "execution": {
          "iopub.status.busy": "2025-06-20T14:57:16.235227Z",
          "iopub.execute_input": "2025-06-20T14:57:16.235449Z",
          "iopub.status.idle": "2025-06-20T14:57:16.293168Z",
          "shell.execute_reply.started": "2025-06-20T14:57:16.235432Z",
          "shell.execute_reply": "2025-06-20T14:57:16.292586Z"
        },
        "id": "YrwW7TTS4QuL"
      },
      "outputs": [],
      "execution_count": 50
    },
    {
      "cell_type": "markdown",
      "source": [
        "# Cancer Q&A Embedding with Batching"
      ],
      "metadata": {
        "id": "5t1-KxLp4QuM"
      }
    },
    {
      "cell_type": "code",
      "source": [
        "\n",
        "from langchain_core.vectorstores import InMemoryVectorStore\n",
        "from langchain_core.documents import Document\n",
        "from langchain_openai import OpenAIEmbeddings\n",
        "\n",
        "\n",
        "embeddings = HuggingFaceEmbeddings(model_name=\"sentence-transformers/all-MiniLM-L6-v2\")\n",
        "\n",
        "\n",
        "qa_docs = [\n",
        "    Document(\n",
        "        page_content=f\"Question: {row['question']}\\nAnswer: {row['answer']}\",\n",
        "        metadata={\"focus_area\": row[\"focus_area\"]}\n",
        "    )\n",
        "    for _, row in cancer_df.iterrows()\n",
        "]\n",
        "\n",
        "\n",
        "def embed_in_batches(documents, batch_size=100):\n",
        "    \"\"\"\n",
        "    Embed documents using OpenAI and store them in a memory vector store,\n",
        "    processing in batches to avoid exceeding the token limit.\n",
        "\n",
        "    Args:\n",
        "        documents (List[Document]): List of LangChain Document objects.\n",
        "        batch_size (int): Number of docs to embed per API call.\n",
        "\n",
        "    Returns:\n",
        "        InMemoryVectorStore: Vector store containing embedded documents.\n",
        "    \"\"\"\n",
        "    vector_store = InMemoryVectorStore(embedding=embeddings)\n",
        "    for i in range(0, len(documents), batch_size):\n",
        "        batch = documents[i:i + batch_size]\n",
        "        vector_store.add_documents(batch)\n",
        "    return vector_store\n",
        "\n",
        "\n",
        "vector_store = embed_in_batches(qa_docs)\n"
      ],
      "metadata": {
        "trusted": true,
        "execution": {
          "iopub.status.busy": "2025-06-20T14:57:16.293868Z",
          "iopub.execute_input": "2025-06-20T14:57:16.294063Z",
          "iopub.status.idle": "2025-06-20T14:57:34.719582Z",
          "shell.execute_reply.started": "2025-06-20T14:57:16.294047Z",
          "shell.execute_reply": "2025-06-20T14:57:34.718875Z"
        },
        "id": "5kcmm3r24QuM"
      },
      "outputs": [],
      "execution_count": 19
    },
    {
      "cell_type": "markdown",
      "source": [
        "# Test Retrieval"
      ],
      "metadata": {
        "id": "0KBmD88Q4QuM"
      }
    },
    {
      "cell_type": "code",
      "source": [
        "results = vector_store.similarity_search(\"What causes Lung Cancer ?\", k=5)\n",
        "for doc in results:\n",
        "    print(doc.page_content)\n",
        "    print(\"---\")"
      ],
      "metadata": {
        "trusted": true,
        "execution": {
          "iopub.status.busy": "2025-06-20T14:57:34.720281Z",
          "iopub.execute_input": "2025-06-20T14:57:34.720499Z",
          "iopub.status.idle": "2025-06-20T14:57:35.106063Z",
          "shell.execute_reply.started": "2025-06-20T14:57:34.720482Z",
          "shell.execute_reply": "2025-06-20T14:57:35.105348Z"
        },
        "colab": {
          "base_uri": "https://localhost:8080/"
        },
        "id": "fjEhKnbJ4QuN",
        "outputId": "53208d70-4543-4864-9473-2138b329d853"
      },
      "outputs": [
        {
          "output_type": "stream",
          "name": "stdout",
          "text": [
            "Question: What is (are) Lung Cancer ?\n",
            "Answer: Lung cancer is one of the most common cancers in the world. It is a leading cause of cancer death in men and women in the United States. Cigarette smoking causes most lung cancers. The more cigarettes you smoke per day and the earlier you started smoking, the greater your risk of lung cancer. High levels of pollution, radiation and asbestos exposure may also increase risk.     Common symptoms of lung cancer include       - A cough that doesn't go away and gets worse over time    - Constant chest pain    - Coughing up blood    - Shortness of breath, wheezing, or hoarseness    - Repeated problems with pneumonia or bronchitis    - Swelling of the neck and face    - Loss of appetite or weight loss    - Fatigue       Doctors diagnose lung cancer using a physical exam, imaging, and lab tests. Treatment depends on the type, stage, and how advanced it is. Treatments include surgery, chemotherapy, radiation therapy, and targeted therapy. Targeted therapy uses substances that attack cancer cells without harming normal cells.    NIH: National Cancer Institute\n",
            "---\n",
            "Question: What is (are) Lung adenocarcinoma ?\n",
            "Answer: Lung adenocarcinoma is a cancer that occurs due to abnormal and uncontrolled cell growth in the lungs. It is a subtype of non-small cell lung cancer that is often diagnosed in an outer area of the lung. Early lung cancers may not be associated with any signs and symptoms. As the condition progresses, affected people can experience chest pain, a persistent cough, fatigue, coughing up blood, loss of appetite, unexplained weight loss, shortness of breath, and/or wheezing. The underlying cause of lung adenocarcinoma is generally unknown; however, risk factors for developing a lung cancer include smoking; exposure to secondhand smoke and other toxic chemicals; a family history of lung cancer; previous radiation treatment to the chest or breast; and HIV infection. Treatment varies based on the severity of the condition, the associated signs and symptoms and the affected person's overall health. It may include a combination of surgery, radiation therapy, chemotherapy, targeted therapy, and/or watchful waiting.\n",
            "---\n",
            "Question: What is (are) Lung Cancer ?\n",
            "Answer: Key Points\n",
            "                    - Lung cancer is a disease in which malignant (cancer) cells form in the tissues of the lung.    - Lung cancer is the leading cause of cancer death in the United States.    - Different factors increase or decrease the risk of lung cancer.\n",
            "                \n",
            "                \n",
            "                    Lung cancer is a disease in which malignant (cancer) cells form in the tissues of the lung.\n",
            "                    The lungs are a pair of cone-shaped breathing organs inside the chest. The lungs bring oxygen into the body when breathing in and send carbon dioxide out of the body when breathing out. Each lung has sections called lobes. The left lung has two lobes. The right lung, which is slightly larger, has three. A thin membrane called the pleura surrounds the lungs. Two tubes called bronchi lead from the trachea (windpipe) to the right and left lungs. The bronchi are sometimes involved in lung cancer. Small tubes called bronchioles and tiny air sacs called alveoli make up the inside of the lungs.      There are two types of lung cancer: small cell lung cancer and non-small cell lung cancer.    See the following PDQ summaries for more information about lung cancer:         -   Lung Cancer Prevention     -  Non-Small Cell Lung Cancer Treatment     -  Small Cell Lung Cancer Treatment\n",
            "                \n",
            "                \n",
            "                    Lung cancer is the leading cause of cancer death in the United States.\n",
            "                    Lung cancer is the third most common type of non-skin cancer in the United States. Lung cancer is the leading cause of cancer death in men and in women.\n",
            "---\n",
            "Question: What causes Lung Cancer ?\n",
            "Answer: Cigarette smoking is the number one cause of lung cancer. Scientists have reported widely on the link between cancer and smoking since the 1960s. Since then, study after study has provided more proof that cigarette smoking is the primary cause of lung cancer. Before cigarette smoking became popular after World War I, doctors rarely, if ever, saw patients with lung cancer. But today, lung cancer is the leading cause of death by cancer. Over 85 percent of people with lung cancer developed it because they smoked cigarettes. Using tobacco products has been shown to cause many types of cancer. In fact, smoking tobacco, using smokeless tobacco, and being exposed regularly to second-hand tobacco smoke are responsible for a large number of cancer deaths in the U.S. each year.\n",
            "---\n",
            "Question: What is (are) Lung Cancer ?\n",
            "Answer: How Tumors Form The body is made up of many types of cells. Normally, cells grow, divide, and produce more cells as needed to keep the body healthy and functioning properly. Sometimes, however, the process goes wrong and cells become abnormal, forming more cells in an uncontrolled way. These extra cells form a mass of tissue, called a growth or tumor. Tumors can be benign, which means not cancerous, or malignant, which means cancerous. Lung cancer occurs when a tumor forms in the tissue of the lung. The Leading Cause of Cancer Death  Lung cancer is the leading cause of cancer death in men and women in the United States. Experts estimate that over 200,000 new cases of lung cancer will be diagnosed each year slightly more cases in men than women. Over 150,000 Americans die of the disease each year. Lung cancer occurs most often between the ages of 55 and 65. (Watch the videos on this page to learn more about lung cancer. To enlarge the videos, click the brackets in the lower right-hand corner of the video screen. To reduce the videos, press the Escape (Esc) button on your keyboard.) Two Major Types of Lung Cancer There are two major types of lung cancer -- non-small cell lung cancer and small cell lung cancer. Each type of lung cancer grows and spreads in different ways, and each is treated differently. - Non-small cell lung cancer is more common than small cell lung cancer.  - Small cell lung cancer grows more quickly and is more likely to spread to other organs in the body.  Non-small cell lung cancer is more common than small cell lung cancer. Small cell lung cancer grows more quickly and is more likely to spread to other organs in the body.  Learn more about non-small cell lung cancer.   Learn more about small cell lung cancer.  Lung Cancer Can Spread Lung cancer may spread to the lymph nodes or other tissues in the chest, including the lung opposite to where it originated. It may also spread to other organs of the body, such as the bones, brain, or liver. When cancer spreads from its original location in the lung to another part of the body such as the brain, it is called metastatic lung cancer, not brain cancer. Doctors sometimes call this distant disease. Smoking and Lung Cancer  Lung cancer would occur much less often if people did not smoke. The good news is that smoking is not as popular as it used to be. In 1965 about 42 percent of all adults smoked, but as of 2012, slightly less than 17 percent of people 18 and older smoked cigarettes. Also, since the 1990s there has been a steady drop in lung cancer deaths among men, mainly because fewer men are smoking, and since the turn of the century, lung cancer deaths in women have been slowly declining. Cigarette smoking rates had been dropping steadily in the 1990s and had started to level off at the start of the 21st century but the latest figures show a continued decline. The bad news is that other forms of tobacco use have shown some revival, but mainly in younger populations. The bad news is that smoking rates, which were dropping, have stopped declining in recent years. Smoking by young adults actually increased by 73 percent in the 1990s but has shown a downturn or leveling off in the past few years.\n",
            "---\n"
          ]
        }
      ],
      "execution_count": 23
    },
    {
      "cell_type": "markdown",
      "source": [
        "# RAG Prompting with flan-t5-base\n",
        "\n"
      ],
      "metadata": {
        "id": "cAFk5RwE4QuN"
      }
    },
    {
      "cell_type": "markdown",
      "source": [
        "# Setup Prompt & State"
      ],
      "metadata": {
        "id": "QssS5ljC4QuN"
      }
    },
    {
      "cell_type": "code",
      "source": [
        "from pydantic import BaseModel\n",
        "from typing import List, Dict, Optional\n",
        "from langchain import hub\n",
        "prompt = hub.pull(\"rlm/rag-prompt\")\n",
        "class State(BaseModel):\n",
        "    question: str\n",
        "    context: Optional[List[Dict]]\n",
        "    answer: str"
      ],
      "metadata": {
        "trusted": true,
        "execution": {
          "iopub.status.busy": "2025-06-20T14:57:35.106751Z",
          "iopub.execute_input": "2025-06-20T14:57:35.106954Z",
          "iopub.status.idle": "2025-06-20T14:57:35.369429Z",
          "shell.execute_reply.started": "2025-06-20T14:57:35.106938Z",
          "shell.execute_reply": "2025-06-20T14:57:35.368819Z"
        },
        "id": "Xsaauq0L4QuN"
      },
      "outputs": [],
      "execution_count": 25
    },
    {
      "cell_type": "markdown",
      "source": [
        "# Retrieval and Generation Functions"
      ],
      "metadata": {
        "id": "WGlsUtMn4QuO"
      }
    },
    {
      "cell_type": "code",
      "source": [
        "from transformers import pipeline\n",
        "from langchain.llms import HuggingFacePipeline\n",
        "pipe = pipeline(\n",
        "    \"text2text-generation\",\n",
        "    model=\"google/flan-t5-base\",\n",
        "    max_new_tokens=512,\n",
        "    do_sample=True,\n",
        "    temperature=0.7\n",
        ")\n",
        "llm = HuggingFacePipeline(pipeline=pipe)\n",
        "\n",
        "def retrieve(db, state: State):\n",
        "    retrieved_docs = db.similarity_search(state.question, k=2)\n",
        "    return {\"context\": retrieved_docs}\n",
        "\n",
        "\n",
        "def generate(state: State):\n",
        "    docs_content = \"\\n\\n\".join(doc.page_content for doc in state.context)\n",
        "    prompt_text = (\n",
        "        \"You are a helpful medical assistant. Based on the context below, \"\n",
        "        \"give a comprehensive and detailed answer to the question.\\n\\n\"\n",
        "        f\"Context:\\n{docs_content}\\n\\n\"\n",
        "        f\"Question: {state.question}\\n\\n\"\n",
        "        \"Answer with as much detail as possible:\"\n",
        "    )\n",
        "    response = llm(prompt_text)\n",
        "    return {\"answer\": response}"
      ],
      "metadata": {
        "trusted": true,
        "execution": {
          "iopub.status.busy": "2025-06-20T14:57:35.370145Z",
          "iopub.execute_input": "2025-06-20T14:57:35.370347Z",
          "iopub.status.idle": "2025-06-20T14:57:35.471143Z",
          "shell.execute_reply.started": "2025-06-20T14:57:35.370332Z",
          "shell.execute_reply": "2025-06-20T14:57:35.470360Z"
        },
        "colab": {
          "base_uri": "https://localhost:8080/"
        },
        "id": "UwlBlGpr4QuO",
        "outputId": "25d72798-0a96-4b39-cf2d-af704c88c992"
      },
      "outputs": [
        {
          "output_type": "stream",
          "name": "stderr",
          "text": [
            "Device set to use cpu\n"
          ]
        }
      ],
      "execution_count": 46
    },
    {
      "cell_type": "markdown",
      "source": [
        "# Full Pipeline: Retrieve and Generate"
      ],
      "metadata": {
        "id": "S_TAmvK74QuO"
      }
    },
    {
      "cell_type": "code",
      "source": [
        "\n",
        "def retrieve_and_generate(user_prompt):\n",
        "    state = State(question=user_prompt, context=None, answer=\"\")\n",
        "    context = retrieve(vector_store, state)\n",
        "    state.context = context['context']\n",
        "    gen = generate(state)\n",
        "    return gen[\"answer\"]"
      ],
      "metadata": {
        "trusted": true,
        "execution": {
          "iopub.status.busy": "2025-06-20T14:57:35.472049Z",
          "iopub.execute_input": "2025-06-20T14:57:35.472276Z",
          "iopub.status.idle": "2025-06-20T14:57:35.476802Z",
          "shell.execute_reply.started": "2025-06-20T14:57:35.472259Z",
          "shell.execute_reply": "2025-06-20T14:57:35.476044Z"
        },
        "id": "o3J5bBys4Qud"
      },
      "outputs": [],
      "execution_count": 47
    },
    {
      "cell_type": "markdown",
      "source": [
        "# Ask a Question"
      ],
      "metadata": {
        "id": "FDC58Qw-4Qud"
      }
    },
    {
      "cell_type": "code",
      "source": [
        "question = \"What are the early symptoms of breast cancer?\"\n",
        "response = retrieve_and_generate(question)\n",
        "\n",
        "print(\"User Question:\\n\", question)\n",
        "print(\"\\nRAG Answer:\\n\", response)"
      ],
      "metadata": {
        "trusted": true,
        "execution": {
          "iopub.status.busy": "2025-06-20T14:57:35.477797Z",
          "iopub.execute_input": "2025-06-20T14:57:35.478064Z",
          "iopub.status.idle": "2025-06-20T14:57:37.655309Z",
          "shell.execute_reply.started": "2025-06-20T14:57:35.478042Z",
          "shell.execute_reply": "2025-06-20T14:57:37.654583Z"
        },
        "colab": {
          "base_uri": "https://localhost:8080/",
          "height": 176
        },
        "id": "gNXAOWbf4Que",
        "outputId": "84bb0d45-2a01-4461-d289-e4b364161c27"
      },
      "outputs": [
        {
          "output_type": "stream",
          "name": "stderr",
          "text": [
            "/tmp/ipython-input-46-2442298109.py:26: LangChainDeprecationWarning: The method `BaseLLM.__call__` was deprecated in langchain-core 0.1.7 and will be removed in 1.0. Use :meth:`~invoke` instead.\n",
            "  response = llm(prompt_text)\n",
            "Token indices sequence length is longer than the specified maximum sequence length for this model (585 > 512). Running this sequence through the model will result in indexing errors\n"
          ]
        },
        {
          "output_type": "stream",
          "name": "stdout",
          "text": [
            "User Question:\n",
            " What are the early symptoms of breast cancer?\n",
            "\n",
            "RAG Answer:\n",
            " A lump or thickening in or near the breast or in the underarm area. - A change in the size or shape of the breast. - A dimple or puckering in the skin of the breast. - A nipple turned inward into the breast. - Fluid, other than breast milk, from the nipple, especially if it's bloody. - Scaly, red, or swollen skin on the breast, nipple, or areola (the dark area of skin around the nipple). - Dimples in the breast that look like the skin of an orange, called peau dorange.\n"
          ]
        }
      ],
      "execution_count": 48
    },
    {
      "cell_type": "code",
      "source": [
        "\n",
        "questions = [\n",
        "    \"What are the early symptoms of colon cancer?\",\n",
        "    \"How is leukemia diagnosed?\",\n",
        "    \"What are the common treatments for breast cancer?\",\n",
        "    \"Can chemotherapy be used for prostate cancer?\",\n",
        "    \"What does stage 3 lung cancer mean?\",\n",
        "    \"Is pancreatic cancer curable?\",\n",
        "    \"What increases the risk of cervical cancer?\",\n",
        "    \"Can HPV vaccination help prevent cancer?\",\n",
        "    \"What is remission in cancer?\",\n",
        "    \"How do I manage side effects from radiation therapy?\"\n",
        "]\n",
        "\n",
        "from IPython.display import display, Markdown\n",
        "\n",
        "def batch_test_rag(questions_list):\n",
        "    \"\"\"\n",
        "    Run RAG retrieval and generation for a list of questions.\n",
        "    Nicely display each question and the generated answer.\n",
        "\n",
        "    Args:\n",
        "        questions_list (list[str]): A list of questions to query.\n",
        "    \"\"\"\n",
        "    display(Markdown(\"# 🔎 **Batch RAG Test Results**\"))\n",
        "    for idx, question in enumerate(questions_list, start=1):\n",
        "\n",
        "        answer = retrieve_and_generate(question)\n",
        "\n",
        "\n",
        "        display(Markdown(f\"## {idx}. ❓ **Question:**\"))\n",
        "        display(Markdown(f\"> {question}\"))\n",
        "        display(Markdown(f\"✅ **Answer:**\\n\\n{answer.strip()}\"))\n",
        "        display(Markdown(\"---\"))\n",
        "\n",
        "batch_test_rag(questions)"
      ],
      "metadata": {
        "trusted": true,
        "execution": {
          "iopub.status.busy": "2025-06-20T14:57:37.656166Z",
          "iopub.execute_input": "2025-06-20T14:57:37.656432Z",
          "iopub.status.idle": "2025-06-20T14:57:59.716076Z",
          "shell.execute_reply.started": "2025-06-20T14:57:37.656408Z",
          "shell.execute_reply": "2025-06-20T14:57:59.715416Z"
        },
        "colab": {
          "base_uri": "https://localhost:8080/",
          "height": 1000
        },
        "id": "bcAEOwzj4Que",
        "outputId": "2b1c5163-dcd5-45db-b989-9d500d0b8457"
      },
      "outputs": [
        {
          "output_type": "display_data",
          "data": {
            "text/plain": [
              "<IPython.core.display.Markdown object>"
            ],
            "text/markdown": "# 🔎 **Batch RAG Test Results**"
          },
          "metadata": {}
        },
        {
          "output_type": "display_data",
          "data": {
            "text/plain": [
              "<IPython.core.display.Markdown object>"
            ],
            "text/markdown": "## 1. ❓ **Question:**"
          },
          "metadata": {}
        },
        {
          "output_type": "display_data",
          "data": {
            "text/plain": [
              "<IPython.core.display.Markdown object>"
            ],
            "text/markdown": "> What are the early symptoms of colon cancer?"
          },
          "metadata": {}
        },
        {
          "output_type": "display_data",
          "data": {
            "text/plain": [
              "<IPython.core.display.Markdown object>"
            ],
            "text/markdown": "✅ **Answer:**\n\nDiarrhea, constipation, or feeling that the bowel does not empty all the way."
          },
          "metadata": {}
        },
        {
          "output_type": "display_data",
          "data": {
            "text/plain": [
              "<IPython.core.display.Markdown object>"
            ],
            "text/markdown": "---"
          },
          "metadata": {}
        },
        {
          "output_type": "display_data",
          "data": {
            "text/plain": [
              "<IPython.core.display.Markdown object>"
            ],
            "text/markdown": "## 2. ❓ **Question:**"
          },
          "metadata": {}
        },
        {
          "output_type": "display_data",
          "data": {
            "text/plain": [
              "<IPython.core.display.Markdown object>"
            ],
            "text/markdown": "> How is leukemia diagnosed?"
          },
          "metadata": {}
        },
        {
          "output_type": "display_data",
          "data": {
            "text/plain": [
              "<IPython.core.display.Markdown object>"
            ],
            "text/markdown": "✅ **Answer:**\n\nYour doctor may request lab analyses for leukemia that include blood tests that check the levels and types of blood cells and look for changes in the shape of blood cells. The doctor may also look for signs of leukemia in the bone marrow or the fluid around the brain or the spinal cord"
          },
          "metadata": {}
        },
        {
          "output_type": "display_data",
          "data": {
            "text/plain": [
              "<IPython.core.display.Markdown object>"
            ],
            "text/markdown": "---"
          },
          "metadata": {}
        },
        {
          "output_type": "display_data",
          "data": {
            "text/plain": [
              "<IPython.core.display.Markdown object>"
            ],
            "text/markdown": "## 3. ❓ **Question:**"
          },
          "metadata": {}
        },
        {
          "output_type": "display_data",
          "data": {
            "text/plain": [
              "<IPython.core.display.Markdown object>"
            ],
            "text/markdown": "> What are the common treatments for breast cancer?"
          },
          "metadata": {}
        },
        {
          "output_type": "display_data",
          "data": {
            "text/plain": [
              "<IPython.core.display.Markdown object>"
            ],
            "text/markdown": "✅ **Answer:**\n\nYou can seek conventional treatment from a specialized cancer doctor, called an oncologist. The oncologist will usually assemble a team of specialists to guide your therapy. Besides the oncologist, the team may include a surgeon, a radiation oncologist who is a specialist in radiation therapy, and others. Before starting treatment, you may want another doctor to review the diagnosis and treatment plan. Some insurance companies require a second opinion. Others may pay for a second opinion if you request it."
          },
          "metadata": {}
        },
        {
          "output_type": "display_data",
          "data": {
            "text/plain": [
              "<IPython.core.display.Markdown object>"
            ],
            "text/markdown": "---"
          },
          "metadata": {}
        },
        {
          "output_type": "display_data",
          "data": {
            "text/plain": [
              "<IPython.core.display.Markdown object>"
            ],
            "text/markdown": "## 4. ❓ **Question:**"
          },
          "metadata": {}
        },
        {
          "output_type": "display_data",
          "data": {
            "text/plain": [
              "<IPython.core.display.Markdown object>"
            ],
            "text/markdown": "> Can chemotherapy be used for prostate cancer?"
          },
          "metadata": {}
        },
        {
          "output_type": "display_data",
          "data": {
            "text/plain": [
              "<IPython.core.display.Markdown object>"
            ],
            "text/markdown": "✅ **Answer:**\n\nScientists are also testing the effectiveness of chemotherapy and biological therapy for men whose cancer does not respond or stops responding to hormonal therapy. This treatment is often used for prostate cancer that has spread to other parts of the body. In 2010, the FDA approved a therapeutic cancer vaccine, Provenge, for use in some men with metastatic prostate cancer. This approval was based on the results of a clinical trial that demonstrated a more than 4-month improvement in overall survival compared with a placebo vaccine."
          },
          "metadata": {}
        },
        {
          "output_type": "display_data",
          "data": {
            "text/plain": [
              "<IPython.core.display.Markdown object>"
            ],
            "text/markdown": "---"
          },
          "metadata": {}
        },
        {
          "output_type": "display_data",
          "data": {
            "text/plain": [
              "<IPython.core.display.Markdown object>"
            ],
            "text/markdown": "## 5. ❓ **Question:**"
          },
          "metadata": {}
        },
        {
          "output_type": "display_data",
          "data": {
            "text/plain": [
              "<IPython.core.display.Markdown object>"
            ],
            "text/markdown": "> What does stage 3 lung cancer mean?"
          },
          "metadata": {}
        },
        {
          "output_type": "display_data",
          "data": {
            "text/plain": [
              "<IPython.core.display.Markdown object>"
            ],
            "text/markdown": "✅ **Answer:**\n\nStage IIIA is divided into three sections depending on the size of the tumor, where the tumor is found, and which lymph nodes have cancer (if any)."
          },
          "metadata": {}
        },
        {
          "output_type": "display_data",
          "data": {
            "text/plain": [
              "<IPython.core.display.Markdown object>"
            ],
            "text/markdown": "---"
          },
          "metadata": {}
        },
        {
          "output_type": "display_data",
          "data": {
            "text/plain": [
              "<IPython.core.display.Markdown object>"
            ],
            "text/markdown": "## 6. ❓ **Question:**"
          },
          "metadata": {}
        },
        {
          "output_type": "display_data",
          "data": {
            "text/plain": [
              "<IPython.core.display.Markdown object>"
            ],
            "text/markdown": "> Is pancreatic cancer curable?"
          },
          "metadata": {}
        },
        {
          "output_type": "display_data",
          "data": {
            "text/plain": [
              "<IPython.core.display.Markdown object>"
            ],
            "text/markdown": "✅ **Answer:**\n\nPancreatic cancer can be controlled only if it is found before it has spread, when it can be completely removed by surgery. If the cancer has spread, palliative treatment can improve the patient's quality of life by controlling the symptoms and complications of this disease."
          },
          "metadata": {}
        },
        {
          "output_type": "display_data",
          "data": {
            "text/plain": [
              "<IPython.core.display.Markdown object>"
            ],
            "text/markdown": "---"
          },
          "metadata": {}
        },
        {
          "output_type": "display_data",
          "data": {
            "text/plain": [
              "<IPython.core.display.Markdown object>"
            ],
            "text/markdown": "## 7. ❓ **Question:**"
          },
          "metadata": {}
        },
        {
          "output_type": "display_data",
          "data": {
            "text/plain": [
              "<IPython.core.display.Markdown object>"
            ],
            "text/markdown": "> What increases the risk of cervical cancer?"
          },
          "metadata": {}
        },
        {
          "output_type": "display_data",
          "data": {
            "text/plain": [
              "<IPython.core.display.Markdown object>"
            ],
            "text/markdown": "✅ **Answer:**\n\nBeing infected with human papillomavirus (HPV)."
          },
          "metadata": {}
        },
        {
          "output_type": "display_data",
          "data": {
            "text/plain": [
              "<IPython.core.display.Markdown object>"
            ],
            "text/markdown": "---"
          },
          "metadata": {}
        },
        {
          "output_type": "display_data",
          "data": {
            "text/plain": [
              "<IPython.core.display.Markdown object>"
            ],
            "text/markdown": "## 8. ❓ **Question:**"
          },
          "metadata": {}
        },
        {
          "output_type": "display_data",
          "data": {
            "text/plain": [
              "<IPython.core.display.Markdown object>"
            ],
            "text/markdown": "> Can HPV vaccination help prevent cancer?"
          },
          "metadata": {}
        },
        {
          "output_type": "display_data",
          "data": {
            "text/plain": [
              "<IPython.core.display.Markdown object>"
            ],
            "text/markdown": "✅ **Answer:**\n\nThe Hepatitis A vaccine and the hepatitis B vaccine prevent infection with hepatitis A and hepatitis B."
          },
          "metadata": {}
        },
        {
          "output_type": "display_data",
          "data": {
            "text/plain": [
              "<IPython.core.display.Markdown object>"
            ],
            "text/markdown": "---"
          },
          "metadata": {}
        },
        {
          "output_type": "display_data",
          "data": {
            "text/plain": [
              "<IPython.core.display.Markdown object>"
            ],
            "text/markdown": "## 9. ❓ **Question:**"
          },
          "metadata": {}
        },
        {
          "output_type": "display_data",
          "data": {
            "text/plain": [
              "<IPython.core.display.Markdown object>"
            ],
            "text/markdown": "> What is remission in cancer?"
          },
          "metadata": {}
        },
        {
          "output_type": "display_data",
          "data": {
            "text/plain": [
              "<IPython.core.display.Markdown object>"
            ],
            "text/markdown": "✅ **Answer:**\n\nWhether the cancer has just been diagnosed or has recurred (come back)."
          },
          "metadata": {}
        },
        {
          "output_type": "display_data",
          "data": {
            "text/plain": [
              "<IPython.core.display.Markdown object>"
            ],
            "text/markdown": "---"
          },
          "metadata": {}
        },
        {
          "output_type": "display_data",
          "data": {
            "text/plain": [
              "<IPython.core.display.Markdown object>"
            ],
            "text/markdown": "## 10. ❓ **Question:**"
          },
          "metadata": {}
        },
        {
          "output_type": "display_data",
          "data": {
            "text/plain": [
              "<IPython.core.display.Markdown object>"
            ],
            "text/markdown": "> How do I manage side effects from radiation therapy?"
          },
          "metadata": {}
        },
        {
          "output_type": "display_data",
          "data": {
            "text/plain": [
              "<IPython.core.display.Markdown object>"
            ],
            "text/markdown": "✅ **Answer:**\n\nSummary : Talk to your doctor to make sure that all aspects of your cancer care work together. Some methods, such as acupuncture, might help with nausea, pain and other side effects of cancer treatment. Talk to your doctor to make sure that all aspects of your cancer care work together."
          },
          "metadata": {}
        },
        {
          "output_type": "display_data",
          "data": {
            "text/plain": [
              "<IPython.core.display.Markdown object>"
            ],
            "text/markdown": "---"
          },
          "metadata": {}
        }
      ],
      "execution_count": 49
    }
  ]
}